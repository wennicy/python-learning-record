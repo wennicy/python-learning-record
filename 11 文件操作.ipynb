{
 "cells": [
  {
   "cell_type": "code",
   "execution_count": null,
   "id": "723bb519-44ee-4aac-ab2c-b9a7daace5e7",
   "metadata": {},
   "outputs": [],
   "source": [
    "# 查看文件编码，国际通用的是 UTF-8"
   ]
  },
  {
   "cell_type": "markdown",
   "id": "8e6c88a3-237c-4a5c-a59b-27d7a01ea0cc",
   "metadata": {},
   "source": [
    "# 打开文件 open()"
   ]
  },
  {
   "cell_type": "code",
   "execution_count": null,
   "id": "200ca36f-4a39-4b1d-90bb-f48402bcc906",
   "metadata": {},
   "outputs": [],
   "source": [
    "open(name, mode, encoding)\n",
    "# 目标文件名\n",
    "# 打开文件的模式（访问模式）：只读、写入、追加等\n",
    "# 编码模式（推荐使用UTF-8）"
   ]
  },
  {
   "cell_type": "code",
   "execution_count": null,
   "id": "613f2d4b-6e89-4e2e-a335-e6e73e9d3e13",
   "metadata": {},
   "outputs": [],
   "source": [
    "f = open('python.txt', 'r', encoding = 'UTF-8')\n",
    "# f 是 open 函数的文件对象，对象是python中一种特殊的数据类型。拥有属性和方法。"
   ]
  },
  {
   "cell_type": "markdown",
   "id": "5c50ec7a-ec8c-4117-aaf5-6c6bb78742a9",
   "metadata": {},
   "source": [
    "# 写入文件 w"
   ]
  },
  {
   "cell_type": "code",
   "execution_count": null,
   "id": "be8c31e4-a2d2-4cd9-9709-eced15a3d30d",
   "metadata": {},
   "outputs": [],
   "source": [
    "write()  # 写入内容\n",
    "flush()  # 刷新内容到硬盘\n",
    "\n",
    "# w 模式，文件不存在，会创建新文件\n",
    "# w 模式，文件存在，会清空原有内容\n",
    "# close() 方法，带有flush() 方法的功能"
   ]
  },
  {
   "cell_type": "markdown",
   "id": "a51d32e6-447a-4423-843d-60d4416a2bbc",
   "metadata": {},
   "source": [
    "# 追加文件 a"
   ]
  },
  {
   "cell_type": "code",
   "execution_count": null,
   "id": "3e3a362a-e994-4e6d-8ca8-1b46d957834e",
   "metadata": {},
   "outputs": [],
   "source": [
    "write()  # 写入内容\n",
    "flush()  # 刷新内容到硬盘\n",
    "\n",
    "# a 模式，文件不存在，会创建新文件\n",
    "# a 模式，文件存在，会在原有内容后继续写入"
   ]
  },
  {
   "cell_type": "markdown",
   "id": "11aeb7ee-0661-4e84-917a-2e8da124cab6",
   "metadata": {},
   "source": [
    "# 了解异常"
   ]
  },
  {
   "cell_type": "code",
   "execution_count": null,
   "id": "c8dd19fa-79c4-4647-b3c4-07b2759466f5",
   "metadata": {},
   "outputs": [],
   "source": [
    "# 捕获异常：在可能发生异常的地方，进行捕获，当异常出现时，提供解决的方法，为不是任由其导致程序无法运行"
   ]
  },
  {
   "cell_type": "code",
   "execution_count": null,
   "id": "d702a738-b49c-4f76-a970-155a3f753049",
   "metadata": {},
   "outputs": [],
   "source": [
    "try:\n",
    "    可能要发生异常的语句\n",
    "except:\n",
    "    出现异常的准备手段\n",
    "[else:]\n",
    "    未出现异常时应做的事情\n",
    "[finally:]\n",
    "    不管出不出现异常都会做的事情"
   ]
  },
  {
   "cell_type": "markdown",
   "id": "7c31c1cb-ae77-4e5b-8866-83fd185e9c53",
   "metadata": {},
   "source": [
    "## 异常else"
   ]
  },
  {
   "cell_type": "markdown",
   "id": "7d3a2cd0-982b-460e-9aa3-450cab18b26f",
   "metadata": {},
   "source": [
    "try:\n",
    "    print(1)\n",
    "except Exception as e:\n",
    "    print(e)\n",
    "[else:]\n",
    "    未出现异常时应做的事情\n",
    "[finally:]\n",
    "    不管出不出现异常都会做的事情"
   ]
  },
  {
   "cell_type": "markdown",
   "id": "a676605e-48df-4a31-bc0f-452c4e992c23",
   "metadata": {},
   "source": [
    "# 导入模块"
   ]
  },
  {
   "cell_type": "code",
   "execution_count": null,
   "id": "8b20e1fc-d2c2-4076-8a56-a73b4116975a",
   "metadata": {},
   "outputs": [],
   "source": [
    "[from 模块名] import [模块 | 类 | 变量 | 函数 | *] [as 别名]"
   ]
  },
  {
   "cell_type": "code",
   "execution_count": null,
   "id": "3e948058-fd52-4aa0-847a-b5479cb2dd85",
   "metadata": {},
   "outputs": [],
   "source": [
    "# 若是不同的模块，同名的功能\n",
    "# 后面的会覆盖前面的导入的"
   ]
  },
  {
   "cell_type": "markdown",
   "id": "75498dc2-9e3f-4cf2-809b-db7e534f4099",
   "metadata": {},
   "source": [
    "# 变量 '__mian__'"
   ]
  },
  {
   "cell_type": "code",
   "execution_count": null,
   "id": "4d613dbb-9a37-4b2e-8386-9e1c8f1c300f",
   "metadata": {},
   "outputs": [],
   "source": [
    "# 在 pycharm 不想删除测试代码，又不想显示在运行代码内\n",
    "# 可以在自定义的模块内写\n",
    "def test(a,b):\n",
    "    print(a,b)\n",
    "\n",
    "if __name__ == '__main__':\n",
    "    test(1,2)"
   ]
  },
  {
   "cell_type": "markdown",
   "id": "a7f27e62-5e86-43e3-85ef-8d2c6ac0edd4",
   "metadata": {},
   "source": [
    "# 变量 '__all__'"
   ]
  },
  {
   "cell_type": "code",
   "execution_count": null,
   "id": "50862acb-a370-4cdf-894a-5933298d5cb5",
   "metadata": {},
   "outputs": [],
   "source": [
    "from my_module import *  # 若是写 * 只能导入 all 后面的变量\n",
    "\n",
    "__all__ = ['test_A']\n",
    "\n",
    "def test_A():\n",
    "    print('test_A')\n",
    "\n",
    "def test_B():\n",
    "    print('test_B')"
   ]
  },
  {
   "cell_type": "code",
   "execution_count": null,
   "id": "9eae468d-6f33-4a12-a6bc-ede76e744f2e",
   "metadata": {},
   "outputs": [],
   "source": [
    "from my_module import *  # 若是写 * 可以导入所有的变量\n",
    "\n",
    "def test_A():\n",
    "    print('test_A')\n",
    "\n",
    "def test_B():\n",
    "    print('test_B')"
   ]
  },
  {
   "cell_type": "markdown",
   "id": "28446efc-4649-40cc-8a8b-8f522397a037",
   "metadata": {},
   "source": [
    "# 自定义 Python 包"
   ]
  },
  {
   "cell_type": "code",
   "execution_count": null,
   "id": "19186907-8f86-412a-847d-1db057dc690d",
   "metadata": {},
   "outputs": [],
   "source": [
    "__int__.py\n",
    "\n",
    "# 创建 python package\n",
    "# 包含上面的代码的文件，才是python包，否则只是简单的python文件"
   ]
  },
  {
   "cell_type": "code",
   "execution_count": null,
   "id": "f28b6781-c866-4cf8-ac22-0577931f9be8",
   "metadata": {},
   "outputs": [],
   "source": [
    "# 导入包\n",
    "# 方法一：\n",
    "import 包名.模块名\n",
    "\n",
    "包名.模块名.目标"
   ]
  },
  {
   "cell_type": "code",
   "execution_count": null,
   "id": "78f884a1-008f-450f-a89d-ce464ca4594d",
   "metadata": {},
   "outputs": [],
   "source": [
    "import my_package.my_module1\n",
    "import my_package.my_module2\n",
    "\n",
    "my_package.my_mudule1.info_print1()\n",
    "my_package.my_mudule2.info_print2()"
   ]
  },
  {
   "cell_type": "code",
   "execution_count": null,
   "id": "952f4e0b-099b-4937-927b-3a41b884eb9f",
   "metadata": {},
   "outputs": [],
   "source": [
    "from my_package import my_module1\n",
    "from my_package import my_module2\n",
    "\n",
    "my_mudule1.info_print1()\n",
    "my_mudule2.info_print2()"
   ]
  },
  {
   "cell_type": "code",
   "execution_count": null,
   "id": "07c0b52d-195b-4978-84f5-5ebd2b4692bf",
   "metadata": {},
   "outputs": [],
   "source": [
    "from my_package.my_module1 import info_print1\n",
    "\n",
    "info_print1()"
   ]
  },
  {
   "cell_type": "code",
   "execution_count": null,
   "id": "133d40ca-6540-49aa-8518-7ffb465a2c50",
   "metadata": {},
   "outputs": [],
   "source": [
    "# pip install -i https://pypi.tuna.tsinghua.edu.cn/simplen 包名称"
   ]
  }
 ],
 "metadata": {
  "kernelspec": {
   "display_name": "Python 3 (ipykernel)",
   "language": "python",
   "name": "python3"
  },
  "language_info": {
   "codemirror_mode": {
    "name": "ipython",
    "version": 3
   },
   "file_extension": ".py",
   "mimetype": "text/x-python",
   "name": "python",
   "nbconvert_exporter": "python",
   "pygments_lexer": "ipython3",
   "version": "3.11.0"
  },
  "widgets": {
   "application/vnd.jupyter.widget-state+json": {
    "state": {},
    "version_major": 2,
    "version_minor": 0
   }
  }
 },
 "nbformat": 4,
 "nbformat_minor": 5
}
