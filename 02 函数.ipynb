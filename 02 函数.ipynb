{
 "cells": [
  {
   "cell_type": "markdown",
   "id": "33c3047e-9670-41f1-b150-e4987540409d",
   "metadata": {},
   "source": [
    "# 函数的定义"
   ]
  },
  {
   "cell_type": "code",
   "execution_count": 1,
   "id": "8b7c24e3-32b6-4c7f-a600-d296d0399e2f",
   "metadata": {},
   "outputs": [
    {
     "name": "stdout",
     "output_type": "stream",
     "text": [
      "字符串Anna的长度是: 4\n",
      "字符串Honey的长度是: 5\n",
      "字符串Yoyo的长度是: 4\n"
     ]
    }
   ],
   "source": [
    "# 定义一个函数 def : 已组织好的，可重复使用，针对特定功能。\n",
    "\n",
    "str1 = \"Anna\"\n",
    "str2 = \"Honey\"\n",
    "str3 = \"Yoyo\"\n",
    "\n",
    "def my_len(data):\n",
    "    count = 0\n",
    "    for i in data:\n",
    "        count += 1\n",
    "    print(f\"字符串{data}的长度是: {count}\")\n",
    "\n",
    "my_len(str1)\n",
    "my_len(str2)\n",
    "my_len(str3)"
   ]
  },
  {
   "cell_type": "code",
   "execution_count": null,
   "id": "68ad844a-c77d-40ea-b60e-2ed1961c46c4",
   "metadata": {},
   "outputs": [],
   "source": [
    "# 函数的定义：\n",
    "def 函数名（传入参数）：\n",
    "    函数体\n",
    "    return 返回值\n",
    "\n",
    "# 传入参数、返回值不需要，均可省略\n",
    "# 函数必须先定义后使用"
   ]
  },
  {
   "cell_type": "markdown",
   "id": "dd0de4a3-1d5c-450b-bbe2-0039c347e01d",
   "metadata": {},
   "source": [
    "# 传入参数"
   ]
  },
  {
   "cell_type": "code",
   "execution_count": null,
   "id": "7c41d4ed-75ba-4019-bd28-c01480cb7f2f",
   "metadata": {},
   "outputs": [],
   "source": [
    "def add(x,y):\n",
    "    result = x + y\n",
    "    print(f\"{x} + {y} 的计算结果是：{result}\")\n",
    "\n",
    "add(1,2)\n",
    "\n",
    "# x,y是形式参数（形参）\n",
    "# 1,2是实际参数（实参）\n",
    "# 传入参数的数量不受限制"
   ]
  },
  {
   "cell_type": "markdown",
   "id": "3335ca47-e02a-4b98-9d62-614f065c06b2",
   "metadata": {},
   "source": [
    "# 返回值"
   ]
  },
  {
   "cell_type": "code",
   "execution_count": null,
   "id": "500c4e93-5269-481e-955f-62f26f9be9b0",
   "metadata": {},
   "outputs": [],
   "source": [
    "def 函数（参数...）:\n",
    "    函数体\n",
    "    return 返回值\n",
    "\n",
    "变量 = 函数（参数）\n",
    "# 函数体遇到 return 关键字后，其后的所有代码都不执行。"
   ]
  },
  {
   "cell_type": "markdown",
   "id": "6e95ee5a-03c1-43fb-a785-639fd1e321ab",
   "metadata": {},
   "source": [
    "# None 类型"
   ]
  },
  {
   "cell_type": "code",
   "execution_count": null,
   "id": "18cf3ef8-b05b-4fe7-a34f-0c06ea27c9e4",
   "metadata": {},
   "outputs": [],
   "source": [
    "# 如果函数没有使用 return 语句返回数据，函数实际上是有返回值的。\n",
    "# 特殊的字面量：None, 其类型是：<class 'NoneType>\n",
    "# 无返回值函数，实际上就是返回了：None 这个字面量，表示这个函数没有返回什么有意义的内容，即返回空。\n",
    "\n",
    "# 用在 if 判断上，None 等同于 False。\n",
    "# 一般用于在函数中主动返回 None,配合 if 判断做相关处理。\n",
    "\n",
    "# None 用于声明无初始内容的变量"
   ]
  },
  {
   "cell_type": "code",
   "execution_count": null,
   "id": "f3c14989-8f9f-4c17-8457-1e85d4e5463c",
   "metadata": {},
   "outputs": [],
   "source": [
    "def say_hi():\n",
    "    print(\"你好呀！\")\n",
    "\n",
    "result = say_hi()\n",
    "print(f\"无返回函数，返回的内容是：{result}\")\n",
    "print(f\"无返回函数，返回的内容类型是：{type(result)}\")"
   ]
  },
  {
   "cell_type": "code",
   "execution_count": null,
   "id": "be238a6f-6716-47c1-a111-c4f98c2eed46",
   "metadata": {},
   "outputs": [],
   "source": [
    "# 主动返回 None 的函数\n",
    "def say_hi():\n",
    "    print(\"你好呀！\")\n",
    "    return None\n",
    "    \n",
    "result = say_hi()\n",
    "print(f\"无返回函数，返回的内容是：{result}\")\n",
    "print(f\"无返回函数，返回的内容类型是：{type(result)}\")"
   ]
  },
  {
   "cell_type": "code",
   "execution_count": null,
   "id": "b11dbd93-0b53-47a4-9162-83cea47d1f73",
   "metadata": {},
   "outputs": [],
   "source": [
    "# None 用于 if 判断\n",
    "def check_age(age):\n",
    "    if age > 18:\n",
    "        return 'Success'\n",
    "    else:\n",
    "        return None\n",
    "\n",
    "result = check_age(16)\n",
    "if not result:\n",
    "    # 进入 if 表示 result 是 None 值，也就是 False\n",
    "    print(\"未成年，不可进入。\")"
   ]
  },
  {
   "cell_type": "code",
   "execution_count": null,
   "id": "65d566d2-e6a9-483d-a136-584036c7a795",
   "metadata": {},
   "outputs": [],
   "source": [
    "# None 用于声明无初始内容的变量, 不想给初始值，可以用 None 暂时替代\n",
    "name = None"
   ]
  },
  {
   "cell_type": "markdown",
   "id": "834df185-5a9d-4112-bd9a-06a54345d126",
   "metadata": {},
   "source": [
    "# 函数的说明文档"
   ]
  },
  {
   "cell_type": "code",
   "execution_count": null,
   "id": "f2cb43b5-20bd-4162-b42f-3098fb24b4f6",
   "metadata": {},
   "outputs": [],
   "source": [
    "def add(x,y):\n",
    "    \"\"\"\n",
    "    add 函数可以接收 2 个参数，进行两数相加的功能\n",
    "    :param x: 形参 x 表示相加的其中一个数字\n",
    "    :param y: 形参 y 表示相加的另一个数字\n",
    "    :return: 返回值是两个数相加的结果\n",
    "    \"\"\"\n",
    "    result = x + y\n",
    "    print(f\"两个数相加的结果是：{result}\")\n",
    "    return result"
   ]
  },
  {
   "cell_type": "markdown",
   "id": "70750fad-6ccb-4202-a720-38892c5c2f2b",
   "metadata": {},
   "source": [
    "# 变量在函数中的作用域（局部变量/全局变量）"
   ]
  },
  {
   "cell_type": "code",
   "execution_count": null,
   "id": "5bbec1c7-dc6f-49e6-95fe-3580655fea59",
   "metadata": {},
   "outputs": [],
   "source": [
    "# 变量作用域：变量的作用范围（变量在哪里可以用，哪里不可以用）"
   ]
  },
  {
   "cell_type": "code",
   "execution_count": null,
   "id": "6ca71126-deef-41db-8df4-2dc1ecbd6fe6",
   "metadata": {},
   "outputs": [],
   "source": [
    "# 局部变量：定义在函数体内部的变量，即只在函数体内部生效"
   ]
  },
  {
   "cell_type": "code",
   "execution_count": null,
   "id": "f87ad065-fb26-4881-b2ee-48fbfe73175c",
   "metadata": {},
   "outputs": [],
   "source": [
    "# 全局变量：在函数体内、外都能生效的变量"
   ]
  },
  {
   "cell_type": "markdown",
   "id": "70190454-05d1-461e-a585-a4eef878b16c",
   "metadata": {},
   "source": [
    "# 关键字 global"
   ]
  },
  {
   "cell_type": "code",
   "execution_count": null,
   "id": "d2eb0911-c9ed-48fd-b3b9-f895912850f5",
   "metadata": {},
   "outputs": [],
   "source": [
    "# 使用 global 关键字，可以在函数内部声明变量为全局变量\n",
    "\n",
    "def testA():\n",
    "    # global 关键字声明 a 是全局变量\n",
    "    global num\n",
    "    num = 200\n",
    "    print(num)\n",
    "\n",
    "testA()"
   ]
  }
 ],
 "metadata": {
  "kernelspec": {
   "display_name": "Python 3 (ipykernel)",
   "language": "python",
   "name": "python3"
  },
  "language_info": {
   "codemirror_mode": {
    "name": "ipython",
    "version": 3
   },
   "file_extension": ".py",
   "mimetype": "text/x-python",
   "name": "python",
   "nbconvert_exporter": "python",
   "pygments_lexer": "ipython3",
   "version": "3.11.0"
  },
  "widgets": {
   "application/vnd.jupyter.widget-state+json": {
    "state": {},
    "version_major": 2,
    "version_minor": 0
   }
  }
 },
 "nbformat": 4,
 "nbformat_minor": 5
}
