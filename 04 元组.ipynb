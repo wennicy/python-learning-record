{
 "cells": [
  {
   "cell_type": "markdown",
   "id": "7734d015-df4e-48b4-87b0-dacd0707779d",
   "metadata": {},
   "source": [
    "# tuple(元组)：只读不改"
   ]
  },
  {
   "cell_type": "code",
   "execution_count": null,
   "id": "89bc5978-42ae-4109-8846-43acb71e5946",
   "metadata": {},
   "outputs": [],
   "source": [
    "# 列表可以修改，元组定义完成，不可以修改，只能读取，不能修改"
   ]
  },
  {
   "cell_type": "markdown",
   "id": "a5ed0ca0-8166-4ef6-8b31-8cb9c13ec4fe",
   "metadata": {},
   "source": [
    "# 元组的定义"
   ]
  },
  {
   "cell_type": "code",
   "execution_count": null,
   "id": "326b0758-79db-4248-9d34-24c5514e22f2",
   "metadata": {},
   "outputs": [],
   "source": [
    "t1 = (1, 2, \"A\", True)\n",
    "t2 = ()\n",
    "t3 = tuple()\n",
    "print(f\"t1 的类型是：{type(t1)}, 内容是:{t1}\")\n",
    "print(f\"t2 的类型是：{type(t2)}, 内容是:{t2}\")\n",
    "print(f\"t3 的类型是：{type(t3)}, 内容是:{t3}\")"
   ]
  },
  {
   "cell_type": "code",
   "execution_count": null,
   "id": "97bfc599-fa8c-4d7e-86a9-fc67c1e75120",
   "metadata": {},
   "outputs": [],
   "source": [
    "# 若定义的元组只有一个数据，需要加 逗号，否则不是元组类型\n",
    "t1 = (\"A\")\n",
    "t2 = (\"A\",)\n",
    "print(f\"t1 的类型是：{type(t1)}, 内容是:{t1}\")\n",
    "print(f\"t2 的类型是：{type(t2)}, 内容是:{t2}\")"
   ]
  },
  {
   "cell_type": "code",
   "execution_count": null,
   "id": "a3c726e1-188a-4402-bc6e-b948aaaf05c1",
   "metadata": {},
   "outputs": [],
   "source": [
    "# 元组的嵌套\n",
    "t4 = ((1,2,3),(4,5,6))\n",
    "print(f\"t4 的类型是：{type(t4)}, 内容是:{t4}\")"
   ]
  },
  {
   "cell_type": "code",
   "execution_count": null,
   "id": "a515bbdd-cf26-4efc-9561-cd92297c9cb2",
   "metadata": {},
   "outputs": [],
   "source": [
    "# 下标索引去取出内容\n",
    "t4 = ((1,2,3),(4,5,6))\n",
    "num = t4[1][2]\n",
    "print(f\"从嵌套元组中取出的数据是：{num}\")"
   ]
  },
  {
   "cell_type": "markdown",
   "id": "aebbd026-3141-42ec-8752-97e84e3f0f6c",
   "metadata": {},
   "source": [
    "# index 查找"
   ]
  },
  {
   "cell_type": "code",
   "execution_count": null,
   "id": "bfbed7df-701f-471f-a9ab-2934fa55fd6c",
   "metadata": {},
   "outputs": [],
   "source": [
    "t1 = (1, 2, \"A\", True)\n",
    "index = t1.index(\"A\")\n",
    "print(f\"在元组t1中查找A的下标是：{index}\")"
   ]
  },
  {
   "cell_type": "markdown",
   "id": "2630250a-d926-4e9c-96ff-3875d5105a22",
   "metadata": {},
   "source": [
    "# count 统计"
   ]
  },
  {
   "cell_type": "code",
   "execution_count": null,
   "id": "0c5f624a-c4ed-4fda-b464-0d975076ac16",
   "metadata": {},
   "outputs": [],
   "source": [
    "t1 = (1, 2, \"A\", True, 1, 2, 1, 2)\n",
    "num = t1.count(2)\n",
    "print(f\"在元组t1中统计 2 的数量是：{num}\")"
   ]
  },
  {
   "cell_type": "markdown",
   "id": "ac1df9d1-cd1a-48a8-8c89-ed62e3027dfb",
   "metadata": {},
   "source": [
    "# len 统计数量"
   ]
  },
  {
   "cell_type": "code",
   "execution_count": null,
   "id": "62f736d9-14af-4909-9e61-1021b3cbcad9",
   "metadata": {},
   "outputs": [],
   "source": [
    "t1 = (1, 2, \"A\", True, 1, 2, 1, 2)\n",
    "num = len(t1)\n",
    "print(f\"元组t1中的数量是：{num}\")"
   ]
  },
  {
   "cell_type": "markdown",
   "id": "875648a3-5cc6-42cd-88e3-ff4294a5118e",
   "metadata": {},
   "source": [
    "# 元组的遍历 while"
   ]
  },
  {
   "cell_type": "code",
   "execution_count": null,
   "id": "7c3788e2-f7ea-491d-a645-7458661e7aee",
   "metadata": {},
   "outputs": [],
   "source": [
    "t1 = (1, 2, \"A\", True, 1, 2, 1, 2)\n",
    "\n",
    "index = 0\n",
    "while index < len(t1):\n",
    "    print(f\"元组的元素有{t1[index]}\")\n",
    "    index += 1"
   ]
  },
  {
   "cell_type": "markdown",
   "id": "3df47931-900b-4e24-9f6e-74157882beef",
   "metadata": {},
   "source": [
    "# 元组的循环遍历 for"
   ]
  },
  {
   "cell_type": "code",
   "execution_count": null,
   "id": "7b2e170e-4063-46e5-8971-f8deb15b7625",
   "metadata": {},
   "outputs": [],
   "source": [
    "t1 = (1, 2, \"A\", True, 1, 2, 1, 2)\n",
    "\n",
    "for element in t1:\n",
    "    print(f\"元组的元素有{element}\")"
   ]
  },
  {
   "cell_type": "markdown",
   "id": "f25a84ed-337f-41cc-8810-8c1694dbce3c",
   "metadata": {},
   "source": [
    "# 特例：元组内嵌套 list 可以修改"
   ]
  },
  {
   "cell_type": "code",
   "execution_count": null,
   "id": "7928d7fd-f88b-41e4-a075-c7895d9a6d2a",
   "metadata": {},
   "outputs": [],
   "source": [
    "t1 = (1, 2, [\"A\", True, 1], 2)\n",
    "print(f\"t1的内容是：{t1}\")\n",
    "t1[2][1] = False\n",
    "print(f\"t1的内容是：{t1}\")"
   ]
  }
 ],
 "metadata": {
  "kernelspec": {
   "display_name": "Python 3 (ipykernel)",
   "language": "python",
   "name": "python3"
  },
  "language_info": {
   "codemirror_mode": {
    "name": "ipython",
    "version": 3
   },
   "file_extension": ".py",
   "mimetype": "text/x-python",
   "name": "python",
   "nbconvert_exporter": "python",
   "pygments_lexer": "ipython3",
   "version": "3.11.0"
  },
  "widgets": {
   "application/vnd.jupyter.widget-state+json": {
    "state": {},
    "version_major": 2,
    "version_minor": 0
   }
  }
 },
 "nbformat": 4,
 "nbformat_minor": 5
}
