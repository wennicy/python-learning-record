{
 "cells": [
  {
   "cell_type": "markdown",
   "id": "3ae1ec28-be7b-4772-888d-d9a4785ed816",
   "metadata": {},
   "source": [
    "# 字典 dict"
   ]
  },
  {
   "cell_type": "code",
   "execution_count": null,
   "id": "c7000e4e-8bc8-4ae7-9799-5e3a7da58819",
   "metadata": {},
   "outputs": [],
   "source": [
    "# key:value\n",
    "# 可以通过 key 找到其关联的 value\n",
    "# 字典中的 key 不能重复"
   ]
  },
  {
   "cell_type": "code",
   "execution_count": null,
   "id": "dc43a8f8-fc6b-4254-946f-208db961bb44",
   "metadata": {},
   "outputs": [],
   "source": [
    "my_dict1 = {\"Anna\": 99, \"Rose\": 76, \"John\": 89}\n",
    "\n",
    "#定义空字典\n",
    "my_dict2 = {}   # 对比定义空集合为 set()\n",
    "my_dict3 = dict()\n",
    "\n",
    "print(f\"字典1的内容是：{my_dict1}, 类型：{type(my_dict1)}\")\n",
    "print(f\"字典1的内容是：{my_dict2}, 类型：{type(my_dict2)}\")\n",
    "print(f\"字典1的内容是：{my_dict3}, 类型：{type(my_dict3)}\")"
   ]
  },
  {
   "cell_type": "markdown",
   "id": "f2def02b-9598-43db-a0d2-b5e2a2bf7234",
   "metadata": {},
   "source": [
    "# 字典的数据获取"
   ]
  },
  {
   "cell_type": "code",
   "execution_count": null,
   "id": "f5153498-3f5d-42e7-9cd5-64077d2a5857",
   "metadata": {},
   "outputs": [],
   "source": [
    "# 字典同集合一样，不可以使用下标索引"
   ]
  },
  {
   "cell_type": "code",
   "execution_count": null,
   "id": "334c9b2d-0f88-43f9-b1f1-3787ebddf7c2",
   "metadata": {},
   "outputs": [],
   "source": [
    "my_dict1 = {\"Anna\": 99, \"Rose\": 76, \"John\": 89}\n",
    "\n",
    "my_dict1[\"Anna\"]"
   ]
  },
  {
   "cell_type": "markdown",
   "id": "0b8ef43f-397e-4f83-a138-ec8b34737252",
   "metadata": {},
   "source": [
    "# 字典的嵌套"
   ]
  },
  {
   "cell_type": "code",
   "execution_count": null,
   "id": "9e20a569-b988-48ba-8c42-4c31ea1493a3",
   "metadata": {},
   "outputs": [],
   "source": [
    "# 字典的 key 和 value 可以是任意数据类型（key 不能为字典）"
   ]
  },
  {
   "cell_type": "code",
   "execution_count": null,
   "id": "072a8ec6-918a-42dc-a6ff-7d40ead22615",
   "metadata": {},
   "outputs": [],
   "source": [
    "stu_score_dict = {\n",
    "    \"Anna\":{\n",
    "        \"语文\":77,\n",
    "        \"数学\":88,\n",
    "        \"英语\":99\n",
    "    },\"Rose\": {\n",
    "        \"语文\":89,\n",
    "        \"数学\":98,\n",
    "        \"英语\":95\n",
    "    }, \"John\": {\n",
    "        \"语文\":92,\n",
    "        \"数学\":85,\n",
    "        \"英语\":71\n",
    "    }\n",
    "}\n",
    "print(f\"学生的考试信息是：{stu_score_dict}\")"
   ]
  },
  {
   "cell_type": "code",
   "execution_count": null,
   "id": "82452981-edae-4299-947c-f5e200e48ce8",
   "metadata": {},
   "outputs": [],
   "source": [
    "print(stu_score_dict[\"Anna\"][\"语文\"])"
   ]
  },
  {
   "cell_type": "markdown",
   "id": "96fa407f-e6e2-455c-9b05-36e752388834",
   "metadata": {},
   "source": [
    "# 新增/更新元素"
   ]
  },
  {
   "cell_type": "code",
   "execution_count": null,
   "id": "608a8766-d1ac-4b68-a2d5-8daf58ef66c0",
   "metadata": {},
   "outputs": [],
   "source": [
    "# 新增元素\n",
    "dict[key] = value\n",
    "# 结果：字典被修改，新增了元素"
   ]
  },
  {
   "cell_type": "code",
   "execution_count": null,
   "id": "a30ba073-3062-4533-ab43-04de7aa4b64f",
   "metadata": {},
   "outputs": [],
   "source": [
    "# 更新元素\n",
    "dict[key] = value\n",
    "# 结果：字典被修改，元素被更新\n",
    "# 注意：字典 key 不可以重复，所以对已存在的 key 执行上述操作，就是更新 value 值"
   ]
  },
  {
   "cell_type": "code",
   "execution_count": null,
   "id": "ba426b85-7ded-48c7-97b3-a17fd9d5dcec",
   "metadata": {},
   "outputs": [],
   "source": [
    "my_dict1 = {\"Anna\": 99, \"Rose\": 76, \"John\": 89}\n",
    "my_dict1[\"Wendy\"] = 66\n",
    "print(my_dict1)"
   ]
  },
  {
   "cell_type": "code",
   "execution_count": null,
   "id": "22c95608-0a7c-4a78-b7a4-d6b30df79e7a",
   "metadata": {},
   "outputs": [],
   "source": [
    "my_dict1 = {\"Anna\": 99, \"Rose\": 76, \"John\": 89}\n",
    "my_dict1[\"Anna\"] = 66\n",
    "print(my_dict1)"
   ]
  },
  {
   "cell_type": "markdown",
   "id": "d649666c-2738-4dda-b12e-5eeb1871d1ea",
   "metadata": {},
   "source": [
    "# 删除元素 pop"
   ]
  },
  {
   "cell_type": "code",
   "execution_count": null,
   "id": "9a133e0a-e8a9-4cf2-8251-28bbc27be38f",
   "metadata": {},
   "outputs": [],
   "source": [
    "# 语法：\n",
    "dict.pop(key)\n",
    "# 结果：获取指定 key 的 value，同时字典被删除，指定 key的数据被删除"
   ]
  },
  {
   "cell_type": "code",
   "execution_count": null,
   "id": "f882bfd4-d604-497a-a203-cfd99cdfe081",
   "metadata": {},
   "outputs": [],
   "source": [
    "my_dict = {\"Anna\": 99, \"Rose\": 76, \"John\": 89,\"Wendy\": 66}\n",
    "score = my_dict.pop(\"Wendy\")\n",
    "print(f\"字典中被移除了一个元素，结果：{my_dict},Wendy 的考试分数是：{score}\")"
   ]
  },
  {
   "cell_type": "markdown",
   "id": "9f1a4e37-f484-447a-9db7-70bd0c730128",
   "metadata": {},
   "source": [
    "# 清空元素"
   ]
  },
  {
   "cell_type": "code",
   "execution_count": null,
   "id": "642dd8b2-96d6-48f0-aa3b-3913a7da536c",
   "metadata": {},
   "outputs": [],
   "source": [
    "my_dict = {\"Anna\": 99, \"Rose\": 76, \"John\": 89,\"Wendy\": 66}\n",
    "my_dict.clear()\n",
    "print(f\"字典被清空了，内容是：{my_dict}\")"
   ]
  },
  {
   "cell_type": "markdown",
   "id": "4825bb61-f369-462b-ba55-44421c434dc3",
   "metadata": {},
   "source": [
    "# 获取全部的 key"
   ]
  },
  {
   "cell_type": "code",
   "execution_count": null,
   "id": "0a76868d-d883-4b7d-aedf-71e735fb1f01",
   "metadata": {},
   "outputs": [],
   "source": [
    "# 语法：\n",
    "dict.keys()\n",
    "# 结果：得到字典的所有 key"
   ]
  },
  {
   "cell_type": "code",
   "execution_count": null,
   "id": "5c1d52c0-78fe-46d2-a76a-932cbf81782d",
   "metadata": {},
   "outputs": [],
   "source": [
    "my_dict = {\"Anna\": 99, \"Rose\": 76, \"John\": 89,\"Wendy\": 66}\n",
    "keys = my_dict.keys()\n",
    "print(f\"字典的全部的keys是：{keys}\")"
   ]
  },
  {
   "cell_type": "markdown",
   "id": "7c976529-e917-4cf3-9475-74c52c87a8ca",
   "metadata": {},
   "source": [
    "# 遍历字典"
   ]
  },
  {
   "cell_type": "code",
   "execution_count": null,
   "id": "a92d5dc3-8c61-4a29-953b-245904884ad0",
   "metadata": {},
   "outputs": [],
   "source": [
    "# 方式 1: 通过获取到全部的 key 来完成遍历\n",
    "my_dict = {\"Anna\": 99, \"Rose\": 76, \"John\": 89,\"Wendy\": 66}\n",
    "keys = my_dict.keys()\n",
    "\n",
    "for key in keys:\n",
    "    print(f\"字典的key是：{key}\")\n",
    "    print(f\"字典的value是：{my_dict[key]}\")"
   ]
  },
  {
   "cell_type": "code",
   "execution_count": null,
   "id": "16f9b5e8-d6df-4360-ac55-63fee23fe4a8",
   "metadata": {},
   "outputs": [],
   "source": [
    "# 方式 2: 直接对字典进行 for 循环，每一次循环都是直接得到 key\n",
    "my_dict = {\"Anna\": 99, \"Rose\": 76, \"John\": 89,\"Wendy\": 66}\n",
    "for key in my_dict:\n",
    "    print(f\"字典2的key是：{key}\")\n",
    "    print(f\"字典2的value是：{my_dict[key]}\")"
   ]
  },
  {
   "cell_type": "markdown",
   "id": "0d8e9506-0843-4552-835a-db8a9bc5ef03",
   "metadata": {},
   "source": [
    "# 统计字典内元素的数量"
   ]
  },
  {
   "cell_type": "code",
   "execution_count": null,
   "id": "c1514818-b37d-4e50-8215-1d702e0c07db",
   "metadata": {},
   "outputs": [],
   "source": [
    "my_dict = {\"Anna\": 99, \"Rose\": 76, \"John\": 89,\"Wendy\": 66}\n",
    "num = len(my_dict)\n",
    "print(f\"字典内的元素数量是：{num}\")"
   ]
  }
 ],
 "metadata": {
  "kernelspec": {
   "display_name": "Python 3 (ipykernel)",
   "language": "python",
   "name": "python3"
  },
  "language_info": {
   "codemirror_mode": {
    "name": "ipython",
    "version": 3
   },
   "file_extension": ".py",
   "mimetype": "text/x-python",
   "name": "python",
   "nbconvert_exporter": "python",
   "pygments_lexer": "ipython3",
   "version": "3.11.0"
  },
  "widgets": {
   "application/vnd.jupyter.widget-state+json": {
    "state": {},
    "version_major": 2,
    "version_minor": 0
   }
  }
 },
 "nbformat": 4,
 "nbformat_minor": 5
}
