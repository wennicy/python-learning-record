{
 "cells": [
  {
   "cell_type": "markdown",
   "id": "f58f5259-e413-4f4d-aa9f-4157106b93d8",
   "metadata": {},
   "source": [
    "# len(容器)、max(容器)、min(容器)"
   ]
  },
  {
   "cell_type": "code",
   "execution_count": null,
   "id": "3cb10b5e-56ef-4c05-9666-57300fdba164",
   "metadata": {},
   "outputs": [],
   "source": [
    "my_list = [1,2,3,4,5]\n",
    "my_tuple = (1,2,3,4,5)\n",
    "my_str = \"abcdefg\"\n",
    "my_set = {1,2,3,4,5}\n",
    "my_dict = {\"key1\":1,\"key2\":2,\"key3\":3,\"key4\":4,\"key5\":5}\n",
    "\n",
    "# max(容器)最大值\n",
    "print(f\"列表 中最大的元素是：{max(my_list)}\")\n",
    "print(f\"元组 中最大的元素是：{max(my_tuple)}\")\n",
    "print(f\"字符串 中最大的元素是：{max(my_str)}\")\n",
    "print(f\"集合 中最大的元素是：{max(my_set)}\")\n",
    "print(f\"字典 中最大的元素是：{max(my_dict)}\")"
   ]
  },
  {
   "cell_type": "code",
   "execution_count": null,
   "id": "3a3a8603-1194-40f1-b08e-ebb0c59529b4",
   "metadata": {},
   "outputs": [],
   "source": [
    "# min(容器)最小值\n",
    "print(f\"列表 中最小的元素是：{min(my_list)}\")\n",
    "print(f\"元组 中最小的元素是：{min(my_tuple)}\")\n",
    "print(f\"字符串 中最小的元素是：{min(my_str)}\")\n",
    "print(f\"集合 中最小的元素是：{min(my_set)}\")\n",
    "print(f\"字典 中最小的元素是：{min(my_dict)}\")"
   ]
  },
  {
   "cell_type": "markdown",
   "id": "99766125-15ff-4f49-97bc-394dffe3e0e2",
   "metadata": {},
   "source": [
    "# 类型转换：容器转列表"
   ]
  },
  {
   "cell_type": "code",
   "execution_count": null,
   "id": "580e36c9-ca8d-4f41-b393-672db16c6cf3",
   "metadata": {},
   "outputs": [],
   "source": [
    "print(f\"列表 转列表的结果是：{list(my_list)}\")\n",
    "print(f\"元组 转列表的结果是：{list(my_tuple)}\")\n",
    "print(f\"字符串 转列表的结果是：{list(my_str)}\")\n",
    "print(f\"集合 转列表的结果是：{list(my_set)}\")\n",
    "print(f\"字典 转列表的结果是：{list(my_dict)}\")"
   ]
  },
  {
   "cell_type": "markdown",
   "id": "0cb75bfa-26e4-4b81-a734-60be3567ba60",
   "metadata": {},
   "source": [
    "# 类型转换：容器转元组"
   ]
  },
  {
   "cell_type": "code",
   "execution_count": null,
   "id": "0e5f1b48-4f29-4f1b-ab44-e08f846182f1",
   "metadata": {},
   "outputs": [],
   "source": [
    "print(f\"列表 转元组的结果是：{tuple(my_list)}\")\n",
    "print(f\"元组 转元组的结果是：{tuple(my_tuple)}\")\n",
    "print(f\"字符串 转元组的结果是：{tuple(my_str)}\")\n",
    "print(f\"集合 转元组的结果是：{tuple(my_set)}\")\n",
    "print(f\"字典 转元组的结果是：{tuple(my_dict)}\")"
   ]
  },
  {
   "cell_type": "markdown",
   "id": "c7e6b3df-843f-4073-97a0-1f07a0bc7223",
   "metadata": {},
   "source": [
    "# 类型转换：容器转字符串"
   ]
  },
  {
   "cell_type": "code",
   "execution_count": null,
   "id": "3e54cecb-8265-4288-a366-fe0fde5a20b5",
   "metadata": {},
   "outputs": [],
   "source": [
    "# 结果将引号省去了\n",
    "print(f\"列表 转字符串的结果是：{str(my_list)}\")\n",
    "print(f\"元组 转字符串的结果是：{str(my_tuple)}\")\n",
    "print(f\"字符串 转字符串的结果是：{str(my_str)}\")\n",
    "print(f\"集合 转字符串的结果是：{str(my_set)}\")\n",
    "print(f\"字典 转字符串的结果是：{str(my_dict)}\")"
   ]
  },
  {
   "cell_type": "markdown",
   "id": "3553796b-642a-4f99-9663-3864c4111e8d",
   "metadata": {},
   "source": [
    "# 类型转换：容器转集合"
   ]
  },
  {
   "cell_type": "code",
   "execution_count": null,
   "id": "37fa6069-e974-4dd0-88d3-5af5907e7880",
   "metadata": {},
   "outputs": [],
   "source": [
    "print(f\"列表 转集合的结果是：{set(my_list)}\")\n",
    "print(f\"元组 转集合的结果是：{set(my_tuple)}\")\n",
    "print(f\"字符串 转集合的结果是：{set(my_str)}\")   # 结果保留，顺序改变\n",
    "print(f\"集合 转集合的结果是：{set(my_set)}\")\n",
    "print(f\"字典 转集合的结果是：{set(my_dict)}\")"
   ]
  },
  {
   "cell_type": "markdown",
   "id": "30221330-420e-441c-a305-d13b38d031ca",
   "metadata": {},
   "source": [
    "# 通用排序功能"
   ]
  },
  {
   "cell_type": "code",
   "execution_count": null,
   "id": "9e7f1028-c65d-4016-9088-f0561920223c",
   "metadata": {},
   "outputs": [],
   "source": [
    "sorted(容器,[reverse = True])"
   ]
  },
  {
   "cell_type": "code",
   "execution_count": null,
   "id": "3ad426fe-b555-473b-8885-9c7ed91188ee",
   "metadata": {},
   "outputs": [],
   "source": [
    "# 排序的结果，全部变为列表\n",
    "\n",
    "my_list = [3,1,2,5,4]\n",
    "my_tuple = (3,1,2,5,4)\n",
    "my_str = \"aebgcfd\"\n",
    "my_set = {3,1,2,5,4}\n",
    "my_dict = {\"key5\":5,\"key1\":1,\"key4\":4,\"key2\":2,\"key3\":3}\n",
    "\n",
    "print(f\"列表 排序的结果是：{sorted(my_list)}\")\n",
    "print(f\"元组 排序的结果是：{sorted(my_tuple)}\")\n",
    "print(f\"字符串 排序的结果是：{sorted(my_str)}\")\n",
    "print(f\"集合 排序的结果是：{sorted(my_set)}\")\n",
    "print(f\"字典 排序的结果是：{sorted(my_dict)}\")"
   ]
  },
  {
   "cell_type": "code",
   "execution_count": null,
   "id": "d1516b58-0926-49ac-a197-77a1e8042bf7",
   "metadata": {},
   "outputs": [],
   "source": [
    "# reverse 反转\n",
    "print(f\"列表 排序的结果是：{sorted(my_list,reverse = True)}\")"
   ]
  },
  {
   "cell_type": "markdown",
   "id": "a9d6a6e9-4367-48bc-a571-7a6911ea9dac",
   "metadata": {},
   "source": [
    "# 字符串大小比较"
   ]
  },
  {
   "cell_type": "code",
   "execution_count": null,
   "id": "b7c97beb-c799-4d73-ba2b-9b3bf53dabd3",
   "metadata": {},
   "outputs": [],
   "source": [
    "# 字符串的比较，基于数字的 ASCII 码值的大小进行比较\n",
    "# 小写字母 > 大写字母\n",
    "\n",
    "# 字符串按位比较，即，一位一位的进行比较，只要有一位大，那么整体就大。"
   ]
  }
 ],
 "metadata": {
  "kernelspec": {
   "display_name": "Python 3 (ipykernel)",
   "language": "python",
   "name": "python3"
  },
  "language_info": {
   "codemirror_mode": {
    "name": "ipython",
    "version": 3
   },
   "file_extension": ".py",
   "mimetype": "text/x-python",
   "name": "python",
   "nbconvert_exporter": "python",
   "pygments_lexer": "ipython3",
   "version": "3.11.0"
  },
  "widgets": {
   "application/vnd.jupyter.widget-state+json": {
    "state": {},
    "version_major": 2,
    "version_minor": 0
   }
  }
 },
 "nbformat": 4,
 "nbformat_minor": 5
}
