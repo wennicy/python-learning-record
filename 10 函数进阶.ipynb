{
 "cells": [
  {
   "cell_type": "markdown",
   "id": "e9c77933-e982-4d00-9daa-a463a18a9088",
   "metadata": {},
   "source": [
    "# 返回多个返回值"
   ]
  },
  {
   "cell_type": "code",
   "execution_count": null,
   "id": "e964a75e-a6a2-4dd1-8b38-24a0cda11a47",
   "metadata": {},
   "outputs": [],
   "source": [
    "# 按照返回值的顺序，写对应顺序的多个变量接收即可\n",
    "# 变量之间用逗号隔开\n",
    "# 支持不同类型的数据 return\n",
    "\n",
    "def test_return():\n",
    "    return 1,2,\"Hello\",True\n",
    "x,y,z,w = test_return()\n",
    "print(x)\n",
    "print(y)\n",
    "print(z)\n",
    "print(w)"
   ]
  },
  {
   "cell_type": "markdown",
   "id": "4caae001-524b-45ae-a314-9417c6cba041",
   "metadata": {},
   "source": [
    "# 函数的多种参数使用形式"
   ]
  },
  {
   "cell_type": "markdown",
   "id": "c987ea59-74f3-4840-8bd9-cd2e2aa964f5",
   "metadata": {},
   "source": [
    "## 位置参数"
   ]
  },
  {
   "cell_type": "code",
   "execution_count": null,
   "id": "0a734fc8-a64f-47ea-80c6-e2a5001ac0ea",
   "metadata": {},
   "outputs": [],
   "source": [
    "# 调用函数时根据函数定义的参数位置来传递参数\n",
    "def user_info(name,age,gender):\n",
    "    print(f\"您的姓名是:{name},年龄是:{age},性别是:{gender}\")\n",
    "\n",
    "user_info(\"Tom\",18,\"男\")"
   ]
  },
  {
   "cell_type": "markdown",
   "id": "0c5d88b3-963a-45db-9726-3b0fc0895fd7",
   "metadata": {},
   "source": [
    "## 关键字参数"
   ]
  },
  {
   "cell_type": "code",
   "execution_count": null,
   "id": "3dafebe2-f786-4b65-9436-e9816313fe81",
   "metadata": {},
   "outputs": [],
   "source": [
    "# 调用时通过\" 键 = 值 \" 形式传递参数\n",
    "# 作用：让函数更加清晰、容易使用，同时也消除了参数的顺序需求\n",
    "# 注意：函数调用时，如果有位置参数，位置参数必须在前，且匹配参数顺序 ，关键词参数之间不存在先后顺序"
   ]
  },
  {
   "cell_type": "code",
   "execution_count": null,
   "id": "b9fccfa6-7c07-4a0b-b3de-ed8d1d5c2987",
   "metadata": {},
   "outputs": [],
   "source": [
    "def user_info(name,age,gender):\n",
    "    print(f\"您的姓名是:{name},年龄是:{age},性别是:{gender}\")\n",
    "\n",
    "user_info(name=\"Tom\",age=18,gender=\"男\")\n",
    "user_info(\"Tom\",age=18,gender=\"男\")\n",
    "user_info(\"Tom\",gender=\"男\",age=18)"
   ]
  },
  {
   "cell_type": "markdown",
   "id": "3aaaad78-0ccf-4704-bcb6-5040c148e60e",
   "metadata": {},
   "source": [
    "## 缺省参数"
   ]
  },
  {
   "cell_type": "code",
   "execution_count": null,
   "id": "14453fa0-3bc5-4d96-9409-4972a1751171",
   "metadata": {},
   "outputs": [],
   "source": [
    "# 也称默认参数，用于定义函数，为参数提供默认值，调用函数时可不传默认参数的值\n",
    "# 注意：所有位置参数必须出现在默认参数前，包括函数定义与调用\n",
    "# 作用：当调用函数时，没有传递参数，默认使用缺省参数对应的值"
   ]
  },
  {
   "cell_type": "code",
   "execution_count": null,
   "id": "d7f9e421-de1f-47cf-af0b-d9c10c1b95a1",
   "metadata": {},
   "outputs": [],
   "source": [
    "# 设置默认值必须统一都在最后\n",
    "\n",
    "def user_info(name,age,gender='男'):\n",
    "    print(f\"您的姓名是:{name},年龄是:{age},性别是:{gender}\")\n",
    "\n",
    "user_info(name=\"Tom\",age=17)\n",
    "user_info(\"Anna\",age=18,gender=\"女\")"
   ]
  },
  {
   "cell_type": "markdown",
   "id": "cd1852b4-353d-45c5-8e22-f6924d4d82df",
   "metadata": {},
   "source": [
    "# 不定长参数"
   ]
  },
  {
   "cell_type": "markdown",
   "id": "5eeab7be-e7d5-4aaa-b2f3-bdc47a32298c",
   "metadata": {},
   "source": [
    "## 位置传递"
   ]
  },
  {
   "cell_type": "code",
   "execution_count": null,
   "id": "67442a54-a6b5-4647-8e56-581ca6d46f28",
   "metadata": {},
   "outputs": [],
   "source": [
    "# 注意：传递的所有参数都会被 * 后面的 args变量收集\n",
    "# 它会根据传进参数的位置合并为一个元组(tuple),args是元组类型，即位置传递"
   ]
  },
  {
   "cell_type": "code",
   "execution_count": null,
   "id": "d3681ba8-eac0-4bf3-ad81-bff36448b92a",
   "metadata": {},
   "outputs": [],
   "source": [
    "def user_info(*args):\n",
    "    print(f\"args 参数的类型是：{type(args)},内容是：{args}\")\n",
    "user_info(1, 2, 3, 'Tom', '男')"
   ]
  },
  {
   "cell_type": "markdown",
   "id": "0cf04ca1-2e86-45e0-9a74-9a74854bfffa",
   "metadata": {},
   "source": [
    "## 关键字传递"
   ]
  },
  {
   "cell_type": "code",
   "execution_count": null,
   "id": "ac16d4c2-ac54-4c66-bdaa-1d0a042d4262",
   "metadata": {},
   "outputs": [],
   "source": [
    "# 注意：参数是\"键 = 值\" 形式的形况下，所有\"键 = 值\" 都会被 ** 后面的 kwargs接收\n",
    "# 同时会根据\"键 = 值\" 组成字典"
   ]
  },
  {
   "cell_type": "code",
   "execution_count": null,
   "id": "fb907174-92d6-47fd-8392-adeb4d04c530",
   "metadata": {},
   "outputs": [],
   "source": [
    "def user_info(**kwargs):\n",
    "    print(f\"args 参数的类型是：{type(kwargs)},内容是：{kwargs}\")\n",
    "user_info(num1 = 1, num2 = 2, num3 = 3, name = 'Tom', gender ='男')"
   ]
  },
  {
   "cell_type": "markdown",
   "id": "529ccbd4-bf82-4168-9b5f-072acdf7d56b",
   "metadata": {},
   "source": [
    "# 匿名函数"
   ]
  },
  {
   "cell_type": "markdown",
   "id": "b7b4db52-74b9-48b6-871a-51101c2dcfc0",
   "metadata": {},
   "source": [
    "## 函数作为参数传递"
   ]
  },
  {
   "cell_type": "code",
   "execution_count": null,
   "id": "3d8c49a0-1d14-4397-855a-3edc042a1698",
   "metadata": {},
   "outputs": [],
   "source": [
    "# 此为计算逻辑的传递，而非数据的传递\n",
    "# 任何逻辑都可以自行定义并作为函数传入"
   ]
  },
  {
   "cell_type": "code",
   "execution_count": null,
   "id": "f883578c-9c84-4b21-bd15-89f8b567147f",
   "metadata": {},
   "outputs": [],
   "source": [
    "def test_func(compute):\n",
    "    result = compute(1,2)\n",
    "    print(f\"compute参数的类型：{type(compute)}\")\n",
    "    print(f\"计算结果：{result}\")\n",
    "\n",
    "def compute(x,y):\n",
    "    return x + y\n",
    "\n",
    "test_func(compute)"
   ]
  },
  {
   "cell_type": "markdown",
   "id": "2d35cc17-c964-4fe3-ad85-e199a8f4f3cb",
   "metadata": {},
   "source": [
    "## Lambda 匿名函数"
   ]
  },
  {
   "cell_type": "code",
   "execution_count": null,
   "id": "a5d313a8-a6d2-426b-b9d2-0a129a7a3eee",
   "metadata": {},
   "outputs": [],
   "source": [
    "# def 关键字，定义带有名称的函数 ———— 重复使用\n",
    "# lambda 关键字，定义匿名函数（无名称） ,只能写一行代码 ———— 临时使用一次"
   ]
  },
  {
   "cell_type": "code",
   "execution_count": null,
   "id": "0e8d6317-85d1-4e4b-957f-b4f195af0a3e",
   "metadata": {},
   "outputs": [],
   "source": [
    "lanbda 传入参数:函数体(一行代码)"
   ]
  },
  {
   "cell_type": "code",
   "execution_count": null,
   "id": "5d099776-8345-48a5-91c3-70c96439b5a0",
   "metadata": {},
   "outputs": [],
   "source": [
    "def test_func(compute):\n",
    "    result = compute(1,2)\n",
    "    print(f\"计算结果：{result}\")\n",
    "\n",
    "test_func(lambda x,y: x+y)"
   ]
  },
  {
   "cell_type": "code",
   "execution_count": null,
   "id": "4848a6d4-1d2c-4b31-a01c-b99478c1f982",
   "metadata": {},
   "outputs": [],
   "source": [
    "# lambda 使用有限制，但是在真实情境下，应用还是非常高的"
   ]
  }
 ],
 "metadata": {
  "kernelspec": {
   "display_name": "Python 3 (ipykernel)",
   "language": "python",
   "name": "python3"
  },
  "language_info": {
   "codemirror_mode": {
    "name": "ipython",
    "version": 3
   },
   "file_extension": ".py",
   "mimetype": "text/x-python",
   "name": "python",
   "nbconvert_exporter": "python",
   "pygments_lexer": "ipython3",
   "version": "3.11.0"
  },
  "widgets": {
   "application/vnd.jupyter.widget-state+json": {
    "state": {},
    "version_major": 2,
    "version_minor": 0
   }
  }
 },
 "nbformat": 4,
 "nbformat_minor": 5
}
