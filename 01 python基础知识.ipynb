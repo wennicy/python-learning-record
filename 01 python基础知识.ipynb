{
 "cells": [
  {
   "cell_type": "markdown",
   "id": "87b77e4f-df0e-4385-861c-27d9e2843b4d",
   "metadata": {},
   "source": [
    "# 运算符"
   ]
  },
  {
   "cell_type": "code",
   "execution_count": 1,
   "id": "5a4066ff-3089-4c9d-808d-6243c3d96f83",
   "metadata": {},
   "outputs": [
    {
     "data": {
      "text/plain": [
       "4.5"
      ]
     },
     "execution_count": 1,
     "metadata": {},
     "output_type": "execute_result"
    }
   ],
   "source": [
    "# 算术运算符\n",
    "\n",
    "n = 9 / 2\n",
    "n"
   ]
  },
  {
   "cell_type": "code",
   "execution_count": 2,
   "id": "826a9bac-e4dd-4e0c-988d-65641a1dfc8b",
   "metadata": {},
   "outputs": [
    {
     "data": {
      "text/plain": [
       "1"
      ]
     },
     "execution_count": 2,
     "metadata": {},
     "output_type": "execute_result"
    }
   ],
   "source": [
    "n = 9 % 2\n",
    "n"
   ]
  },
  {
   "cell_type": "code",
   "execution_count": 3,
   "id": "1ef5a8d7-ffdf-4f9f-9cd5-8149f82d44c3",
   "metadata": {},
   "outputs": [
    {
     "data": {
      "text/plain": [
       "4"
      ]
     },
     "execution_count": 3,
     "metadata": {},
     "output_type": "execute_result"
    }
   ],
   "source": [
    "n = 9 // 2\n",
    "n"
   ]
  },
  {
   "cell_type": "code",
   "execution_count": 4,
   "id": "d14a79ec-1795-46a0-8841-d9c93c48f003",
   "metadata": {},
   "outputs": [
    {
     "data": {
      "text/plain": [
       "4.5"
      ]
     },
     "execution_count": 4,
     "metadata": {},
     "output_type": "execute_result"
    }
   ],
   "source": [
    "# 赋值运算符\n",
    "num = 9\n",
    "num /= 2\n",
    "num"
   ]
  },
  {
   "cell_type": "code",
   "execution_count": 5,
   "id": "48d3eca9-66b4-4cbc-8df0-6f8677f0aea5",
   "metadata": {},
   "outputs": [
    {
     "data": {
      "text/plain": [
       "4"
      ]
     },
     "execution_count": 5,
     "metadata": {},
     "output_type": "execute_result"
    }
   ],
   "source": [
    "num = 9\n",
    "num //= 2\n",
    "num"
   ]
  },
  {
   "cell_type": "code",
   "execution_count": 6,
   "id": "fb6b116f-cf77-40db-98e6-7504c4856e6f",
   "metadata": {},
   "outputs": [
    {
     "data": {
      "text/plain": [
       "1"
      ]
     },
     "execution_count": 6,
     "metadata": {},
     "output_type": "execute_result"
    }
   ],
   "source": [
    "num = 9\n",
    "num %= 2\n",
    "num"
   ]
  },
  {
   "cell_type": "markdown",
   "id": "48ade241-6bda-44bf-a499-fbb9eedd3e49",
   "metadata": {},
   "source": [
    "# 字符串格式化"
   ]
  },
  {
   "cell_type": "code",
   "execution_count": 7,
   "id": "20af0314-a955-4b9c-a46a-312b44e22352",
   "metadata": {},
   "outputs": [
    {
     "name": "stdout",
     "output_type": "stream",
     "text": [
      "今年年龄11岁，6年级\n"
     ]
    }
   ],
   "source": [
    "# 多个变量占位，有顺序\n",
    "age = 11\n",
    "grade = 6\n",
    "message = \"今年年龄%s岁，%s年级\" % (age, grade)\n",
    "print(message)"
   ]
  },
  {
   "cell_type": "code",
   "execution_count": 8,
   "id": "3382ce24-913e-4ecc-9af9-ae1a9f79c46a",
   "metadata": {},
   "outputs": [
    {
     "name": "stdout",
     "output_type": "stream",
     "text": [
      "李华, 今年年龄 11 岁，6.500000 年级\n"
     ]
    }
   ],
   "source": [
    "# 常用三个占位符，字符串 %s, 整数 %d ,浮点数 %f\n",
    "name = '李华'\n",
    "age = 11\n",
    "grade = 6.5\n",
    "message = \"%s, 今年年龄 %d 岁，%f 年级\" % (name, age, grade)\n",
    "print(message)"
   ]
  },
  {
   "cell_type": "code",
   "execution_count": 9,
   "id": "770e079d-a8a7-4e5a-a78b-7e5647940ad3",
   "metadata": {},
   "outputs": [
    {
     "name": "stdout",
     "output_type": "stream",
     "text": [
      "数字11.345宽度限制7，小数精度2，结果是： 11.345\n"
     ]
    }
   ],
   "source": [
    "# 数字精度控制， %5.2f 表示将宽度控制为 5，小数点精度设置为 2\n",
    "num1 = 11\n",
    "num2 = 11.345\n",
    "print(\"数字11.345宽度限制7，小数精度2，结果是：%7.3f\" % num2)"
   ]
  },
  {
   "cell_type": "code",
   "execution_count": 10,
   "id": "0b0e0953-9e54-4943-b82c-a3ec59ffb944",
   "metadata": {},
   "outputs": [
    {
     "name": "stdout",
     "output_type": "stream",
     "text": [
      "姓名：李华, 今年年龄为：11岁，年级为：6.5\n"
     ]
    }
   ],
   "source": [
    "# 快速写法：快速格式化。语法：f\"内容{变量}\"。f做个标记，表示字符串里面将会有对应的占位符\n",
    "# 快速格式化，不关心类型，不做精度控制\n",
    "name = '李华'\n",
    "age = 11\n",
    "grade = 6.5\n",
    "print(f\"姓名：{name}, 今年年龄为：{age}岁，年级为：{grade}\")"
   ]
  },
  {
   "cell_type": "code",
   "execution_count": 11,
   "id": "0c3acdad-e627-4db5-956b-6836b9b106f5",
   "metadata": {},
   "outputs": [
    {
     "name": "stdout",
     "output_type": "stream",
     "text": [
      "1*1的结果是：1\n",
      "字符串在python中的类型名是：<class 'str'>\n"
     ]
    }
   ],
   "source": [
    "# 表达式的字符串格式化，不使用变量，直接使用\n",
    "print(\"1*1的结果是：%d\" % (1*1))\n",
    "print(\"字符串在python中的类型名是：%s\" % type(\"字符串\"))"
   ]
  },
  {
   "cell_type": "code",
   "execution_count": 12,
   "id": "8f9be93f-e07c-47a1-a0d6-a60f397c9a8c",
   "metadata": {},
   "outputs": [
    {
     "name": "stdout",
     "output_type": "stream",
     "text": [
      "公司：A公司, 股票代码：003032, 当前股价：19.99\n",
      "每日增长系数为：1.200000 ,经过 7 天的增长后，股价达到了 71.63 \n"
     ]
    }
   ],
   "source": [
    "name = \"A公司\"\n",
    "stock_price = 19.99\n",
    "stock_code = \"003032\"\n",
    "stock_price_daily_growth_factor = 1.2\n",
    "growth_days = 7\n",
    "finally_stock_price = stock_price * stock_price_daily_growth_factor ** growth_days\n",
    "print(f\"公司：{name}, 股票代码：{stock_code}, 当前股价：{stock_price}\")\n",
    "print(\"每日增长系数为：%f ,经过 %d 天的增长后，股价达到了 %.2f \" % (stock_price_daily_growth_factor, growth_days, finally_stock_price))"
   ]
  },
  {
   "cell_type": "markdown",
   "id": "09ab2ace-8419-4291-8f46-ca61d8e7b255",
   "metadata": {},
   "source": [
    "# 数据输入input()"
   ]
  },
  {
   "cell_type": "code",
   "execution_count": 14,
   "id": "9ff37fe8-fdc6-449e-974c-53609de444fc",
   "metadata": {},
   "outputs": [
    {
     "name": "stdout",
     "output_type": "stream",
     "text": [
      "请告诉我你是谁？\n"
     ]
    },
    {
     "name": "stdin",
     "output_type": "stream",
     "text": [
      " Anna\n"
     ]
    },
    {
     "name": "stdout",
     "output_type": "stream",
     "text": [
      "我知道了，你是:Anna\n"
     ]
    }
   ],
   "source": [
    "print(\"请告诉我你是谁？\")\n",
    "name = input()\n",
    "print(\"我知道了，你是:%s\" % name)"
   ]
  },
  {
   "cell_type": "code",
   "execution_count": 15,
   "id": "34b55634-6749-45f2-9b32-e1e0815e34bc",
   "metadata": {},
   "outputs": [
    {
     "name": "stdin",
     "output_type": "stream",
     "text": [
      "请告诉我你是谁？ Anna\n"
     ]
    },
    {
     "name": "stdout",
     "output_type": "stream",
     "text": [
      "我知道了，你是:Anna\n"
     ]
    }
   ],
   "source": [
    "name = input(\"请告诉我你是谁？\")\n",
    "print(\"我知道了，你是:%s\" % name)"
   ]
  },
  {
   "cell_type": "code",
   "execution_count": 16,
   "id": "1e6afd95-83ce-41e8-b888-26516fce5ced",
   "metadata": {},
   "outputs": [
    {
     "name": "stdin",
     "output_type": "stream",
     "text": [
      "你的年龄是？ 13\n"
     ]
    },
    {
     "name": "stdout",
     "output_type": "stream",
     "text": [
      "你的年龄是： <class 'str'>\n",
      "你的年龄是： <class 'int'>\n"
     ]
    }
   ],
   "source": [
    "# input()语句输出的都是字符串类型，若想数字形式输出，需要进行数据类型转化\n",
    "num = input(\"你的年龄是？\")\n",
    "print(\"你的年龄是：\", type(num))\n",
    "num = int(num)\n",
    "print(\"你的年龄是：\", type(num))"
   ]
  },
  {
   "cell_type": "markdown",
   "id": "3a8d70a9-f207-489e-9aad-3809679ee911",
   "metadata": {},
   "source": [
    "# 条件判断 if_elif_else"
   ]
  },
  {
   "cell_type": "code",
   "execution_count": 17,
   "id": "b07c048f-dd21-40a4-87cc-af5dc597dfca",
   "metadata": {},
   "outputs": [],
   "source": [
    "# 多条件判断，条件是互斥的，从上往下进行判断。\n",
    "# 例如：是否可以免门票，若是 if 的内容满足可以免费，elif 就不看了；若最后一个 elif 才满足免费，也可以免费。\n",
    "# 均不满足，进入 else"
   ]
  },
  {
   "cell_type": "markdown",
   "id": "9a04c414-c4dc-4063-9ba4-7e6b976e5167",
   "metadata": {},
   "source": [
    "# 判断语句的终极用法：嵌套使用"
   ]
  },
  {
   "cell_type": "code",
   "execution_count": null,
   "id": "ad0b046e-171a-43f9-8787-cf4246cb4b04",
   "metadata": {},
   "outputs": [],
   "source": [
    "# if ...\n",
    "#     if ...\n",
    "#     else ...\n",
    "# else ..."
   ]
  },
  {
   "cell_type": "code",
   "execution_count": null,
   "id": "12c6a406-7149-461c-88af-35b4f3b19e65",
   "metadata": {},
   "outputs": [],
   "source": [
    "# 猜数字游戏（3次机会）\n",
    "import random\n",
    "num = random.randint(1,10)\n",
    "\n",
    "# 第一次猜\n",
    "guess = int(input(\"请猜一个 1-10 之间的数字:\"))\n",
    "\n",
    "if guess == num:\n",
    "    print(\"恭喜你！第一次就猜中了！\")\n",
    "else:\n",
    "    if guess > num:\n",
    "        print(\"你猜错啦！你的结果大了。\")\n",
    "    else:\n",
    "        print(\"你猜错啦！你的结果小了。\")\n",
    "    \n",
    "    # 第二次猜  \n",
    "    guess = int(input(\"请再猜一个 1-10 之间的数字:\"))\n",
    "\n",
    "    if guess == num:\n",
    "        print(\"恭喜你！第二次猜中了！\")\n",
    "    else:\n",
    "        if guess > num:\n",
    "            print(\"你猜错啦！你的结果大了。\")\n",
    "        else:\n",
    "            print(\"你猜错啦！你的结果小了。\")\n",
    "        \n",
    "        # 第三次猜  \n",
    "        guess = int(input(\"请再猜一个 1-10 之间的数字:\"))\n",
    "\n",
    "        if guess == num:\n",
    "            print(\"恭喜你！第三次猜中了！\")\n",
    "        else:\n",
    "            print(\"三次机会用完了！你没有猜中。\")"
   ]
  },
  {
   "cell_type": "markdown",
   "id": "e0b0110c-a5b2-4add-9a21-85e7374d5fcc",
   "metadata": {},
   "source": [
    "# while 循环语句"
   ]
  },
  {
   "cell_type": "code",
   "execution_count": null,
   "id": "d9f87f4b-ee51-4a50-806d-20648cfb0af8",
   "metadata": {},
   "outputs": [],
   "source": [
    "# while 条件：\n",
    "#     条件满足时，要做的事情1\n",
    "#     条件满足时，要做的事情2\n",
    "#     条件满足时，要做的事情3\n",
    "#     ......\n",
    "\n",
    "# 循环一般需要设置终止条件，否则将无限循环"
   ]
  },
  {
   "cell_type": "code",
   "execution_count": 18,
   "id": "40bd41bb-99ff-499a-adb2-d1c4c730da9e",
   "metadata": {},
   "outputs": [
    {
     "name": "stdout",
     "output_type": "stream",
     "text": [
      "从 1 累加到 100 的和为:5050\n"
     ]
    }
   ],
   "source": [
    "# 运用 while 循环，计算从 1 累加到 100 的和\n",
    "i = 0\n",
    "result = 0\n",
    "while i < 100:\n",
    "    i += 1\n",
    "    result += i\n",
    "print(f\"从 1 累加到 100 的和为:{result}\")"
   ]
  },
  {
   "cell_type": "code",
   "execution_count": null,
   "id": "314138d4-7c4b-4f01-ab61-6bdba8060650",
   "metadata": {},
   "outputs": [],
   "source": [
    "# 猜数字：判断输入的数字是否等于随机数\n",
    "\n",
    "import random\n",
    "num = random.randint(1,100)\n",
    "\n",
    "count = 0\n",
    "\n",
    "# 通过一个布尔类型的变量，做循环是否继续的标记\n",
    "flag = True\n",
    "\n",
    "while flag:\n",
    "    guess_num = int(input(\"请猜一个 1-100 的数字:\"))\n",
    "    count += 1\n",
    "    if guess_num == num:\n",
    "        print(\"猜中啦！\")\n",
    "        # 循环终止条件\n",
    "        flag = False\n",
    "    else:\n",
    "        if guess_num > num:\n",
    "            print(\"你猜大了!请重新猜。\")\n",
    "        else:\n",
    "            print(\"你猜小了!请重新猜。\")\n",
    "    \n",
    "print(f\"你猜对啦！答案是：{num}, 你猜了{count}次！\")"
   ]
  },
  {
   "cell_type": "markdown",
   "id": "d3fe8d30-1273-4228-8b9e-8941fd048ac0",
   "metadata": {},
   "source": [
    "# while 循环的嵌套"
   ]
  },
  {
   "cell_type": "code",
   "execution_count": 19,
   "id": "1acf42b1-fab9-4edc-b6aa-4bceabcdcb78",
   "metadata": {},
   "outputs": [],
   "source": [
    "# while 条件 1：\n",
    "#     条件满足时，要做的事情1\n",
    "#     while 条件 2:\n",
    "#         条件满足时，要做的事情1"
   ]
  },
  {
   "cell_type": "markdown",
   "id": "fb03efe5-d61b-420a-80b5-4bad3d260c68",
   "metadata": {},
   "source": [
    "# print 输出不换行"
   ]
  },
  {
   "cell_type": "code",
   "execution_count": 20,
   "id": "b5e6eae2-fadd-4f56-90eb-e7921f2a7020",
   "metadata": {},
   "outputs": [
    {
     "name": "stdout",
     "output_type": "stream",
     "text": [
      "Hello\n",
      "World\n",
      "HelloWorld"
     ]
    }
   ],
   "source": [
    "# 不换行\n",
    "print(\"Hello\")\n",
    "print(\"World\")\n",
    "\n",
    "print(\"Hello\", end = '')\n",
    "print(\"World\", end = '')"
   ]
  },
  {
   "cell_type": "markdown",
   "id": "1d637a9d-b94f-47f8-80c9-67acc70ec689",
   "metadata": {},
   "source": [
    "# 制表符 \\t"
   ]
  },
  {
   "cell_type": "code",
   "execution_count": 21,
   "id": "3e297c86-5633-4cb1-ad03-c79f798a5f4d",
   "metadata": {},
   "outputs": [
    {
     "name": "stdout",
     "output_type": "stream",
     "text": [
      "Hello World\n",
      "itheima best\n",
      "Hello\tWorld\n",
      "itheima\tbest\n"
     ]
    }
   ],
   "source": [
    "# 可以让多行字符串对齐\n",
    "print(\"Hello World\")\n",
    "print(\"itheima best\")\n",
    "\n",
    "print(\"Hello\\tWorld\")\n",
    "print(\"itheima\\tbest\")"
   ]
  },
  {
   "cell_type": "code",
   "execution_count": 22,
   "id": "7a4c731e-e4ca-4ade-8829-c14ca76903e9",
   "metadata": {},
   "outputs": [
    {
     "name": "stdout",
     "output_type": "stream",
     "text": [
      "1 * 1 = 1\t\n",
      "1 * 2 = 2\t2 * 2 = 4\t\n",
      "1 * 3 = 3\t2 * 3 = 6\t3 * 3 = 9\t\n",
      "1 * 4 = 4\t2 * 4 = 8\t3 * 4 = 12\t4 * 4 = 16\t\n",
      "1 * 5 = 5\t2 * 5 = 10\t3 * 5 = 15\t4 * 5 = 20\t5 * 5 = 25\t\n",
      "1 * 6 = 6\t2 * 6 = 12\t3 * 6 = 18\t4 * 6 = 24\t5 * 6 = 30\t6 * 6 = 36\t\n",
      "1 * 7 = 7\t2 * 7 = 14\t3 * 7 = 21\t4 * 7 = 28\t5 * 7 = 35\t6 * 7 = 42\t7 * 7 = 49\t\n",
      "1 * 8 = 8\t2 * 8 = 16\t3 * 8 = 24\t4 * 8 = 32\t5 * 8 = 40\t6 * 8 = 48\t7 * 8 = 56\t8 * 8 = 64\t\n",
      "1 * 9 = 9\t2 * 9 = 18\t3 * 9 = 27\t4 * 9 = 36\t5 * 9 = 45\t6 * 9 = 54\t7 * 9 = 63\t8 * 9 = 72\t9 * 9 = 81\t\n"
     ]
    }
   ],
   "source": [
    "# 案例：通过 while, 输出 9*9 乘法表\n",
    "# 控制行的循环 i <= 9, 控制每一行输出的循环 j <= i\n",
    "i = 1\n",
    "\n",
    "while i < 10:\n",
    "    \n",
    "    j = 1\n",
    "    while j <= i:\n",
    "        print(f\"{j} * {i} = {j * i}\\t\", end = '')\n",
    "        j += 1\n",
    "    \n",
    "    i += 1\n",
    "    print()  # 空内容，表示输出一个换行"
   ]
  },
  {
   "cell_type": "markdown",
   "id": "9bcda833-b2d5-4893-8add-876ac626c90a",
   "metadata": {},
   "source": [
    "# for 循环"
   ]
  },
  {
   "cell_type": "code",
   "execution_count": null,
   "id": "6926223f-b5dc-4c2e-84c7-e18d04c7b3df",
   "metadata": {},
   "outputs": [],
   "source": [
    "# for 是\"轮循\"机制，将 \"代办事项\" 逐个完成的循环机制"
   ]
  },
  {
   "cell_type": "code",
   "execution_count": null,
   "id": "aa1a0a9d-a950-40c7-9f59-1d0520101839",
   "metadata": {},
   "outputs": [],
   "source": [
    "# range 语句\n",
    "# for 临时变量 in 待处理数据集：\n",
    "#     循环满足条件时执行的代码\n",
    "\n",
    "# 待处理数据集，也称序列类型，其内容可以一个个依次去除的一种类型，包括：字符串、列表、元组等"
   ]
  },
  {
   "cell_type": "markdown",
   "id": "9e67825e-052c-404e-a7ab-97063a15c7c3",
   "metadata": {},
   "source": [
    "# range 语句"
   ]
  },
  {
   "cell_type": "code",
   "execution_count": 23,
   "id": "221e2fb3-d623-49ab-a402-1c7b3106dfcb",
   "metadata": {},
   "outputs": [],
   "source": [
    "# range(n) 从0开始，都 n 结束，不含 n\n",
    "# range(n1, n2)\n",
    "# range(n1, n2, step)"
   ]
  },
  {
   "cell_type": "markdown",
   "id": "c2bdbeba-6d34-4db2-82e0-7383a20c2c10",
   "metadata": {},
   "source": [
    "# for 循环临时变量作用域"
   ]
  },
  {
   "cell_type": "code",
   "execution_count": null,
   "id": "f132a1c2-6f9d-4f00-a303-4a19b21c24f4",
   "metadata": {},
   "outputs": [],
   "source": [
    "# for 临时变量 in 待处理数据集：\n",
    "#     循环满足条件时执行的代码\n",
    "\n",
    "# 临时变量，在编程规范上，作用范围（作用域），只限定在 for 循环内部\n",
    "\n",
    "# 如果在 for 循环外部访问临时变量，实际上是可以访问到的，但在编程规范上，不允许，不建议"
   ]
  },
  {
   "cell_type": "code",
   "execution_count": null,
   "id": "81300a2b-b522-46bd-9415-33653fd82814",
   "metadata": {},
   "outputs": [],
   "source": [
    "for i in range(5):\n",
    "    print(i)\n",
    "print()\n",
    "print(i)"
   ]
  },
  {
   "cell_type": "markdown",
   "id": "e4ac0289-4e92-44a1-9b0f-88dc73c9668c",
   "metadata": {},
   "source": [
    "# for 循环的嵌套"
   ]
  },
  {
   "cell_type": "code",
   "execution_count": null,
   "id": "6cf97bb1-6852-47c2-9bf7-ca4fde163c4d",
   "metadata": {},
   "outputs": [],
   "source": [
    "# for 临时变量 in 待处理数据集：\n",
    "#     循环满足条件时执行的代码\n",
    "#     ...\n",
    "#     for 临时变量 in 待处理数据集：\n",
    "#         循环满足条件时执行的代码\n",
    "#         ..."
   ]
  },
  {
   "cell_type": "code",
   "execution_count": null,
   "id": "7e3557dd-8ef6-4c7b-9dff-d2126934bca7",
   "metadata": {},
   "outputs": [],
   "source": [
    "i = 0\n",
    "for i in range(1,101):\n",
    "    print(f\"今天是向小美表白的第{i}天。\")\n",
    "    \n",
    "    for j in range(1,11):\n",
    "        print(f\"给小美送的第{j}朵玫瑰花。\")\n",
    "    \n",
    "    print(\"小美，I 老虎 You\")\n",
    "\n",
    "print(f\"第{i}天，表白成功。\")"
   ]
  },
  {
   "cell_type": "code",
   "execution_count": null,
   "id": "0a27aa37-7b34-491f-8c76-a2a6b7c5294a",
   "metadata": {},
   "outputs": [],
   "source": [
    "for i in range(1, 10):    \n",
    "    \n",
    "    for j in range(1, i + 1):\n",
    "        print(f\"{j} * {i} = {j * i}\\t\", end = '')\n",
    "    \n",
    "    print()  # 空内容，表示输出一个换行"
   ]
  },
  {
   "cell_type": "markdown",
   "id": "6ee33547-0166-4606-83ef-f0eb5718bf55",
   "metadata": {},
   "source": [
    "# continue 和 break"
   ]
  },
  {
   "cell_type": "code",
   "execution_count": 25,
   "id": "f4081421-66ed-4064-9e17-fda62217159f",
   "metadata": {},
   "outputs": [
    {
     "name": "stdout",
     "output_type": "stream",
     "text": [
      "语句1\n",
      "语句1\n",
      "语句1\n"
     ]
    }
   ],
   "source": [
    "# continue 中断本次循环，直接进入下一次循环。在 for 和 while 中效果一致。\n",
    "for i in range(3):\n",
    "    print(\"语句1\")\n",
    "    continue\n",
    "    print(\"语句2\")"
   ]
  },
  {
   "cell_type": "code",
   "execution_count": null,
   "id": "bb33bed7-5807-4998-b8be-e33e32c52ba2",
   "metadata": {},
   "outputs": [],
   "source": [
    "# continue 只能控制：它所在的循环临时中断\n",
    "for i in range(2):\n",
    "    print(\"语句 1\")\n",
    "    \n",
    "    for i in range(2):\n",
    "        print(\"语句 2\")\n",
    "        continue\n",
    "        print(\"语句 3\")\n",
    "    \n",
    "    print(\"语句 4\")"
   ]
  },
  {
   "cell_type": "code",
   "execution_count": null,
   "id": "368c13e6-b3ed-4cac-9f06-ef543be59e36",
   "metadata": {},
   "outputs": [],
   "source": [
    "# break 直接结束循环。\n",
    "for i in range(3):\n",
    "    print(\"语句1\")\n",
    "    break\n",
    "    print(\"语句2\")\n",
    "# break后面的都不执行了，跳出循环。"
   ]
  },
  {
   "cell_type": "code",
   "execution_count": null,
   "id": "7b1df07b-e759-413a-928a-cb17691b3d9d",
   "metadata": {},
   "outputs": [],
   "source": [
    "for i in range(2):\n",
    "    print(\"语句 1\")\n",
    "    \n",
    "    for i in range(2):\n",
    "        print(\"语句 2\")\n",
    "        break\n",
    "        print(\"语句 3\")\n",
    "    \n",
    "    print(\"语句 4\")"
   ]
  },
  {
   "cell_type": "code",
   "execution_count": null,
   "id": "1f7c948b-e789-45a4-88bd-ff38b364cfe9",
   "metadata": {},
   "outputs": [],
   "source": [
    "# 案例：发工资\n",
    "import random\n",
    "\n",
    "account = 10000\n",
    "\n",
    "for i in range(1,21):\n",
    "    \n",
    "    num = random.randint(1,10)\n",
    "    \n",
    "    if num < 5:\n",
    "        print(f\"员工{i},绩效分{num}，低于5，不发工资，下一位。\")\n",
    "        continue\n",
    "        \n",
    "    if account > 1000:\n",
    "        account -= 1000\n",
    "        print(f\"向员工{i},发放工资1000元，账户余额还剩余{account}。\")\n",
    "    else:\n",
    "        print(\"工资发完啦！\")\n",
    "        break"
   ]
  }
 ],
 "metadata": {
  "kernelspec": {
   "display_name": "Python 3 (ipykernel)",
   "language": "python",
   "name": "python3"
  },
  "language_info": {
   "codemirror_mode": {
    "name": "ipython",
    "version": 3
   },
   "file_extension": ".py",
   "mimetype": "text/x-python",
   "name": "python",
   "nbconvert_exporter": "python",
   "pygments_lexer": "ipython3",
   "version": "3.11.0"
  },
  "widgets": {
   "application/vnd.jupyter.widget-state+json": {
    "state": {},
    "version_major": 2,
    "version_minor": 0
   }
  }
 },
 "nbformat": 4,
 "nbformat_minor": 5
}
