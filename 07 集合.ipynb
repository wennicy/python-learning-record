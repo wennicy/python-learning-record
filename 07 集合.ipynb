{
 "cells": [
  {
   "cell_type": "markdown",
   "id": "ba30c5c6-3810-4462-9160-5a082b05e225",
   "metadata": {},
   "source": [
    "# 集合 set"
   ]
  },
  {
   "cell_type": "code",
   "execution_count": null,
   "id": "cc9c0ae9-7ddb-48fa-82d4-4fe4133426be",
   "metadata": {},
   "outputs": [],
   "source": [
    "# 列表可修改，支持重复元素且有序\n",
    "# 元组、字符串不可修改、支持重复元素且有序\n",
    "# 集合：内部元素不重复，无序，不支持下标索引访问，允许修改"
   ]
  },
  {
   "cell_type": "code",
   "execution_count": null,
   "id": "13efdbf6-291f-4ee1-8d25-1e6e34b07163",
   "metadata": {},
   "outputs": [],
   "source": [
    "list  []\n",
    "tuple  ()\n",
    "str  \"\"\n",
    "set  {}"
   ]
  },
  {
   "cell_type": "code",
   "execution_count": null,
   "id": "a916fbff-2f1b-4f04-b6ef-e62609a7fb28",
   "metadata": {},
   "outputs": [],
   "source": [
    "my_set = {\"A\",\"B\",\"C\",\"A\",\"B\",\"C\",\"A\",\"B\",\"C\"}\n",
    "\n",
    "my_set_empty = set()  # 定义空集合\n",
    "print(f\"my_set的内容是{my_set},类型是{type(my_set)}\")\n",
    "print(f\"my_set的内容是{my_set_empty},类型是{type(my_set_empty)}\")"
   ]
  },
  {
   "cell_type": "markdown",
   "id": "449462a6-2474-4d56-a476-6be5da0958fc",
   "metadata": {},
   "source": [
    "# 添加新元素 add"
   ]
  },
  {
   "cell_type": "code",
   "execution_count": null,
   "id": "46959e21-e1fa-4539-917e-bc524054c884",
   "metadata": {},
   "outputs": [],
   "source": [
    "my_set = {\"A\",\"B\",\"C\",\"A\",\"B\",\"C\",\"A\",\"B\",\"C\"}\n",
    "my_set.add(\"D\")\n",
    "my_set.add(\"A\")\n",
    "print(f\"添加元素后的结果是：{my_set}\")"
   ]
  },
  {
   "cell_type": "markdown",
   "id": "ca247a0e-c0c3-49a4-9d17-02b359467638",
   "metadata": {},
   "source": [
    "# 移除元素 remove"
   ]
  },
  {
   "cell_type": "code",
   "execution_count": null,
   "id": "6d83ca60-1970-47fc-98ec-98879b699bb9",
   "metadata": {},
   "outputs": [],
   "source": [
    "my_set = {\"A\",\"B\",\"C\",\"A\",\"B\",\"C\",\"A\",\"B\",\"C\"}\n",
    "my_set.remove(\"B\")\n",
    "print(f\"移除元素后的结果是：{my_set}\")            "
   ]
  },
  {
   "cell_type": "markdown",
   "id": "b93575d8-b4f0-4234-96e4-3141cfef3d42",
   "metadata": {},
   "source": [
    "# 从集合中随机取出元素"
   ]
  },
  {
   "cell_type": "code",
   "execution_count": null,
   "id": "63bf52b2-171e-473f-b67a-667e77bf2f7f",
   "metadata": {},
   "outputs": [],
   "source": [
    "my_set = {\"A\",\"B\",\"C\",\"A\",\"B\",\"C\",\"A\",\"B\",\"C\"}\n",
    "element = my_set.pop()\n",
    "print(f\"集合被取出的元素是：{element},取出元素后:{my_set}\")"
   ]
  },
  {
   "cell_type": "markdown",
   "id": "e87837dd-fa49-4b7c-8e6f-229bc08a8fbc",
   "metadata": {},
   "source": [
    "# 清除集合"
   ]
  },
  {
   "cell_type": "code",
   "execution_count": null,
   "id": "cbfa166e-6b40-41d4-b699-acbc7ab263db",
   "metadata": {},
   "outputs": [],
   "source": [
    "my_set = {\"A\",\"B\",\"C\",\"A\",\"B\",\"C\",\"A\",\"B\",\"C\"}\n",
    "my_set.clear()\n",
    "print(f\"集合被清空啦，集合是：{my_set}\")"
   ]
  },
  {
   "cell_type": "markdown",
   "id": "b001b014-85d2-4bfa-929b-c4defeb36a17",
   "metadata": {},
   "source": [
    "# 取出两个集合的差集 difference"
   ]
  },
  {
   "cell_type": "code",
   "execution_count": null,
   "id": "c73fa500-28b9-4ff3-b73a-d5062a930404",
   "metadata": {},
   "outputs": [],
   "source": [
    "# 语法：集合1.difference(集合2)，功能：取出集合 1和集合 2的差集（集合 1有而集合 2没有的）\n",
    "# 结果：得到一个新的集合，但是集合 1 和集合 2 不变"
   ]
  },
  {
   "cell_type": "code",
   "execution_count": null,
   "id": "8c155a39-9ae1-4511-87f0-3646a2320356",
   "metadata": {},
   "outputs": [],
   "source": [
    "set1 = {1,2,3}\n",
    "set2 = {1,5,6}\n",
    "set3 = set1.difference(set2)\n",
    "print(f\"取出差集后的结果是：{set3}\")\n",
    "print(f\"取差集后，原有set1的内容：{set1}\")\n",
    "print(f\"取差集后，原有set2的内容：{set2}\")"
   ]
  },
  {
   "cell_type": "markdown",
   "id": "e05cb137-4ee1-4e07-b1db-28fbf4eba2b0",
   "metadata": {},
   "source": [
    "# 取出两个集合的差集 difference_update（集合1被修改）"
   ]
  },
  {
   "cell_type": "code",
   "execution_count": null,
   "id": "f057b37b-6949-4011-925e-e4b7af1badaf",
   "metadata": {},
   "outputs": [],
   "source": [
    "# 语法：集合 1.difference_update(集合2)\n",
    "# 功能：对比集合 1和集合 2，在集合 1 内，删除和集合 2 相同的元素\n",
    "# 结果：集合 1 删除相同的，集合 2不变"
   ]
  },
  {
   "cell_type": "code",
   "execution_count": null,
   "id": "65b2e8e0-4bb5-4899-8cf5-6d0403e6612c",
   "metadata": {},
   "outputs": [],
   "source": [
    "set1 = {1,2,3}\n",
    "set2 = {1,5,6}\n",
    "set1.difference_update(set2)\n",
    "\n",
    "print(f\"取差集后，原有set1的内容：{set1}\")\n",
    "print(f\"取差集后，原有set2的内容：{set2}\")"
   ]
  },
  {
   "cell_type": "markdown",
   "id": "81a656c8-5b24-4d6f-a68e-e66d160e5028",
   "metadata": {},
   "source": [
    "# 两个集合合并 union"
   ]
  },
  {
   "cell_type": "code",
   "execution_count": null,
   "id": "d6ecb7ca-c22d-43e0-84a6-0d3d1080cd31",
   "metadata": {},
   "outputs": [],
   "source": [
    "set1 = {1,2,3}\n",
    "set2 = {1,5,6}\n",
    "set3 = set1.union(set2)\n",
    "print(f\"合并后的结果是：{set3}\")\n",
    "print(f\"合并后，原有set1的内容：{set1}\")\n",
    "print(f\"合并后，原有set2的内容：{set2}\")"
   ]
  },
  {
   "cell_type": "markdown",
   "id": "29870cee-fb12-4ec8-b68d-36811d42df68",
   "metadata": {},
   "source": [
    "# 统计集合的元素数量 set"
   ]
  },
  {
   "cell_type": "code",
   "execution_count": null,
   "id": "65baec3c-1aaa-4127-80f5-34b35f084fb6",
   "metadata": {},
   "outputs": [],
   "source": [
    "set1 = {1, 2, 3, 5, 6}\n",
    "num = len(set1)\n",
    "print(f\"集合 set1 内的元素数量有：{num}个\")\n",
    "\n",
    "\n",
    "#集合是去重的\n",
    "set2 = {1, 2, 3, 5, 6, 1, 2, 3, 5, 6}\n",
    "num = len(set2)\n",
    "print(f\"集合 set2 内的元素数量有：{num}个\")"
   ]
  },
  {
   "cell_type": "markdown",
   "id": "981a038a-f4f6-4ce8-abf2-8f0cc73546ff",
   "metadata": {},
   "source": [
    "# 集合的遍历（不支持下标索引，不能用while;可以用for）"
   ]
  },
  {
   "cell_type": "code",
   "execution_count": null,
   "id": "f2e19701-5242-46dd-b123-a05be3da9225",
   "metadata": {},
   "outputs": [],
   "source": [
    "set1 = {1, 2, 3, 5, 6}\n",
    "for element in set1:\n",
    "    print(f\"集合的元素有：{element}\")"
   ]
  }
 ],
 "metadata": {
  "kernelspec": {
   "display_name": "Python 3 (ipykernel)",
   "language": "python",
   "name": "python3"
  },
  "language_info": {
   "codemirror_mode": {
    "name": "ipython",
    "version": 3
   },
   "file_extension": ".py",
   "mimetype": "text/x-python",
   "name": "python",
   "nbconvert_exporter": "python",
   "pygments_lexer": "ipython3",
   "version": "3.11.0"
  },
  "widgets": {
   "application/vnd.jupyter.widget-state+json": {
    "state": {},
    "version_major": 2,
    "version_minor": 0
   }
  }
 },
 "nbformat": 4,
 "nbformat_minor": 5
}
