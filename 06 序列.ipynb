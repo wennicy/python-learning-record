{
 "cells": [
  {
   "cell_type": "markdown",
   "id": "37340e8d-2fb6-4bb0-a95b-356e79b90014",
   "metadata": {},
   "source": [
    "# 序列"
   ]
  },
  {
   "cell_type": "code",
   "execution_count": null,
   "id": "a77b227a-d0b3-4ea0-b2f4-8efa5b65f8f3",
   "metadata": {},
   "outputs": [],
   "source": [
    "# 列表list、元组tuple、字符串str 均可视为序列。"
   ]
  },
  {
   "cell_type": "markdown",
   "id": "74a4edb2-fbdc-423b-ad8d-cf4ddcef25c1",
   "metadata": {},
   "source": [
    "# 常用操作 -- 切片"
   ]
  },
  {
   "cell_type": "code",
   "execution_count": null,
   "id": "821760e4-b2ce-431f-a2c6-b272875cc426",
   "metadata": {},
   "outputs": [],
   "source": [
    "# 语法：序列[起始下标：结束下标:步长]\n",
    "# 结束下标：不包含，结束下标 留空 表示结尾，得到一个新序列\n",
    "# 步长：默认是1，有时可省略不写"
   ]
  },
  {
   "cell_type": "code",
   "execution_count": null,
   "id": "3c6c26a7-835b-4702-90a8-6cae8bb947d7",
   "metadata": {},
   "outputs": [],
   "source": [
    "my_list = [0,1,2,3,4,5,6]\n",
    "\n",
    "# 步长默认为 1，从 1开 始，4 结束\n",
    "result1 = my_list[1:4]\n",
    "\n",
    "print(f\"结果1：{result1}\")\n",
    "# 从头开始，到尾结束，步长为 1\n",
    "result2 = my_list[:]\n",
    "print(f\"结果2：{result2}\")\n",
    "\n",
    "# 从头开始，到尾结束，步长为 2\n",
    "result3 = my_list[::2]\n",
    "print(f\"结果2：{result3}\")\n",
    "\n",
    "# 从头开始，到尾结束，步长为 -1\n",
    "result4 = my_list[::-1]\n",
    "print(f\"结果2：{result4}\")"
   ]
  }
 ],
 "metadata": {
  "kernelspec": {
   "display_name": "Python 3 (ipykernel)",
   "language": "python",
   "name": "python3"
  },
  "language_info": {
   "codemirror_mode": {
    "name": "ipython",
    "version": 3
   },
   "file_extension": ".py",
   "mimetype": "text/x-python",
   "name": "python",
   "nbconvert_exporter": "python",
   "pygments_lexer": "ipython3",
   "version": "3.11.0"
  },
  "widgets": {
   "application/vnd.jupyter.widget-state+json": {
    "state": {},
    "version_major": 2,
    "version_minor": 0
   }
  }
 },
 "nbformat": 4,
 "nbformat_minor": 5
}
