{
 "cells": [
  {
   "cell_type": "code",
   "execution_count": null,
   "id": "ba69937a-725e-479a-a855-9d5dd13cf3f7",
   "metadata": {},
   "outputs": [],
   "source": [
    "# 数据容器\n",
    "# 一种可以容纳多份数据的数据类型，容纳的每一份数据称之为 1个 元素。\n",
    "# 每一个元素，可以是任意类型的数据，如字符串、数字、布尔等等\n",
    "# list(列表) 、tuple (元组)、str(字符串)、set(集合)、dict(字典)"
   ]
  },
  {
   "cell_type": "markdown",
   "id": "07c403d8-af81-4f3e-834a-7eab4b068d31",
   "metadata": {},
   "source": [
    "# list(列表)"
   ]
  },
  {
   "cell_type": "code",
   "execution_count": null,
   "id": "c8a813a4-a35f-427f-ba4c-40f584340def",
   "metadata": {},
   "outputs": [],
   "source": [
    "# 字面量\n",
    "[元素1，元素2，元素3]\n",
    "\n",
    "# 定义变量\n",
    "变量名称 = [元素1，元素2，元素3]\n",
    "\n",
    "# 定义空列表\n",
    "变量名称 = []\n",
    "变量名称 = list()\n",
    "\n",
    "# 列表内的元素内容不受限"
   ]
  },
  {
   "cell_type": "code",
   "execution_count": null,
   "id": "b7573140-7491-4f6c-aa44-2deeea6dbb3b",
   "metadata": {},
   "outputs": [],
   "source": [
    "# 定义一个嵌套的列表\n",
    "my_list = [[1,2,3],[4,5,6]]\n",
    "my_list"
   ]
  },
  {
   "cell_type": "code",
   "execution_count": null,
   "id": "da30ebd5-401f-4846-b105-d758cc9685cf",
   "metadata": {},
   "outputs": [],
   "source": [
    "# 取出嵌套列表的元素,取出4\n",
    "my_list = [[1,2,3],[4,5,6]]\n",
    "my_list[1][0]"
   ]
  },
  {
   "cell_type": "markdown",
   "id": "3530b255-3918-4084-b141-10c3b8f56c8a",
   "metadata": {},
   "source": [
    "# list(列表)的常用操作"
   ]
  },
  {
   "cell_type": "code",
   "execution_count": null,
   "id": "c66a16e4-d8f6-456f-be98-30e94fc91c7b",
   "metadata": {},
   "outputs": [],
   "source": [
    "# 函数：一个封装的代码单元，可以提供特定的功能\n",
    "# 方法：在 Python 中，如果将函数定义为 class(类) 的成员，称之为：方法\n",
    "# 函数和方法功能一样，有传入参数，有返回值，只是方法的使用格式不同。\n",
    "# 函数的使用：\n",
    "num = add(1,2)\n",
    "# 方法的使用：\n",
    "student = Student()\n",
    "num = student.add(1,2)"
   ]
  },
  {
   "cell_type": "code",
   "execution_count": null,
   "id": "b59cbb9d-50a9-4bd9-8daa-e818096d208c",
   "metadata": {},
   "outputs": [],
   "source": [
    "# 函数\n",
    "def add(x,y):\n",
    "    return  x + y"
   ]
  },
  {
   "cell_type": "code",
   "execution_count": null,
   "id": "af86195b-6cab-4662-9498-30b59ac01a0f",
   "metadata": {},
   "outputs": [],
   "source": [
    "# 方法\n",
    "class Student:\n",
    "\n",
    "    def add(self, x, y):\n",
    "        return x + y"
   ]
  },
  {
   "cell_type": "markdown",
   "id": "4bc30646-3e12-4309-a32d-d10fb9e08df4",
   "metadata": {},
   "source": [
    "# 查询功能：列表.index(元素)"
   ]
  },
  {
   "cell_type": "code",
   "execution_count": null,
   "id": "92638a1d-4335-47dd-99d9-0d4669f1a8e5",
   "metadata": {},
   "outputs": [],
   "source": [
    "# 语法：列表.index(元素)\n",
    "my_list = [\"A\", \"B\", \"C\"]\n",
    "\n",
    "index = my_list.index(\"A\")\n",
    "\n",
    "print(f\"A在列表中的下表索引值是：{index}\")"
   ]
  },
  {
   "cell_type": "code",
   "execution_count": null,
   "id": "d79e3425-c8e8-4e2a-b9ce-95a1ae27a5f7",
   "metadata": {},
   "outputs": [],
   "source": [
    "# 查找的内容不存在，会报错\n",
    "index = my_list.index(\"Q\")\n",
    "\n",
    "print(f\"A在列表中的下表索引值是：{index}\")"
   ]
  },
  {
   "cell_type": "markdown",
   "id": "08881a7f-25b3-4575-bb88-3706893f548f",
   "metadata": {},
   "source": [
    "# 修改功能"
   ]
  },
  {
   "cell_type": "code",
   "execution_count": null,
   "id": "c6e33d4b-0a5a-4644-a7ed-a3533388f4a8",
   "metadata": {},
   "outputs": [],
   "source": [
    "# 语法：列表[下标] = 值\n",
    "my_list[0] = \"M\"\n",
    "print(f\"列表被修改元素后，结果是：{my_list}\")"
   ]
  },
  {
   "cell_type": "markdown",
   "id": "74c3e1e5-871b-4348-80a5-3a911a075296",
   "metadata": {},
   "source": [
    "# 插入元素：列表.insert(下标，元素)"
   ]
  },
  {
   "cell_type": "code",
   "execution_count": 2,
   "id": "aed7e5c5-b801-467d-9224-a19853ae25bc",
   "metadata": {},
   "outputs": [
    {
     "name": "stdout",
     "output_type": "stream",
     "text": [
      "列表插入元素后，结果是：['A', 'D', 'B', 'C']\n"
     ]
    }
   ],
   "source": [
    "# 语法：列表.insert(下标，元素), 在指定的下标位置，插入指定的元素\n",
    "my_list = [\"A\", \"B\", \"C\"]\n",
    "my_list.insert(1,\"D\")\n",
    "print(f\"列表插入元素后，结果是：{my_list}\")"
   ]
  },
  {
   "cell_type": "markdown",
   "id": "f0b1991d-f15f-41dc-b5d2-123f1c7cc792",
   "metadata": {},
   "source": [
    "# 追加单个元素至尾部：列表.append(元素)"
   ]
  },
  {
   "cell_type": "code",
   "execution_count": null,
   "id": "4e253bf4-c6e9-4a80-a705-efe66ad67269",
   "metadata": {},
   "outputs": [],
   "source": [
    "# 列表.append(元素)\n",
    "my_list.append(\"Y\")\n",
    "print(f\"列表在追加了元素后，结果是：{my_list}\")"
   ]
  },
  {
   "cell_type": "markdown",
   "id": "f08d7e2d-3370-48ae-b488-f9115efc2dbc",
   "metadata": {},
   "source": [
    "# 追加一批元素至尾部：列表.extend(容器)"
   ]
  },
  {
   "cell_type": "code",
   "execution_count": 3,
   "id": "73d959f0-3295-4496-a983-6602f4c7e55c",
   "metadata": {},
   "outputs": [
    {
     "name": "stdout",
     "output_type": "stream",
     "text": [
      "列表在追加了元素后，结果是：['A', 'D', 'B', 'C', 1, 2, 3]\n"
     ]
    }
   ],
   "source": [
    "# 列表.extend(其他数据容器)\n",
    "my_list2 = [1, 2,  3]\n",
    "my_list.extend(my_list2)\n",
    "print(f\"列表在追加了元素后，结果是：{my_list}\")"
   ]
  },
  {
   "cell_type": "markdown",
   "id": "076a765f-2472-46d4-b19a-9b68a02baad5",
   "metadata": {},
   "source": [
    "# 删除元素：del 列表[下标]"
   ]
  },
  {
   "cell_type": "code",
   "execution_count": null,
   "id": "a7e26755-92cc-4dde-af44-a4785004273e",
   "metadata": {},
   "outputs": [],
   "source": [
    "# del 列表[下标]\n",
    "my_list = [\"A\", \"B\", \"C\"]\n",
    "\n",
    "del my_list[2]\n",
    "\n",
    "print(f\"列表删除元素后，结果是：{my_list}\")"
   ]
  },
  {
   "cell_type": "markdown",
   "id": "9da98a67-7775-410b-96f0-aa5535395283",
   "metadata": {},
   "source": [
    "# 删除元素（取出元素，返回出去）：列表.pop(下标)"
   ]
  },
  {
   "cell_type": "code",
   "execution_count": null,
   "id": "e8523cd6-220b-4c06-93ed-079acc5a8196",
   "metadata": {},
   "outputs": [],
   "source": [
    "# 列表.pop(下标)\n",
    "# 可以用新变量，接收删除的元素\n",
    "my_list = [\"A\", \"B\", \"C\"]\n",
    "element = my_list.pop(2)\n",
    "print(f\"通过 pop 方法取出元素后列表内容：{my_list}，取出的元素是：{element}\")"
   ]
  },
  {
   "cell_type": "markdown",
   "id": "4af87a0e-8b7e-43eb-9ad8-26d18dc99423",
   "metadata": {},
   "source": [
    "# 删除元素(不通过下标，通过元素内容)：列表.remove(元素)"
   ]
  },
  {
   "cell_type": "code",
   "execution_count": null,
   "id": "14a8fd75-df0a-4db2-bb48-c133bd705588",
   "metadata": {},
   "outputs": [],
   "source": [
    "# 列表.remove(元素)\n",
    "# 删除某元素在列表中的第一个匹配项\n",
    "my_list = [1, 2, 3, 2, 3]\n",
    "my_list.remove(2)\n",
    "print(my_list)"
   ]
  },
  {
   "cell_type": "markdown",
   "id": "b40a3555-b707-4795-bbae-61b4635619ee",
   "metadata": {},
   "source": [
    "# 清空列表：列表.clear()"
   ]
  },
  {
   "cell_type": "code",
   "execution_count": null,
   "id": "575d0181-e739-4900-b49c-a2adec3ea6d8",
   "metadata": {},
   "outputs": [],
   "source": [
    "# 列表.clear()\n",
    "my_list = [1, 2, 3, 2, 3]\n",
    "my_list.clear()\n",
    "print(my_list)"
   ]
  },
  {
   "cell_type": "markdown",
   "id": "d1506574-d2b9-493c-98c0-b16442784e4e",
   "metadata": {},
   "source": [
    "# 统计某个元素在列表中的数量：列表.count(元素)"
   ]
  },
  {
   "cell_type": "code",
   "execution_count": null,
   "id": "96234628-7978-47cb-92f1-eb9f583b6a5e",
   "metadata": {},
   "outputs": [],
   "source": [
    "# 列表.count(元素)\n",
    "my_list = [1, 2, 3, 2, 3]\n",
    "my_list.count(3)"
   ]
  },
  {
   "cell_type": "markdown",
   "id": "61b5112f-3349-4e55-a21a-514e307f590b",
   "metadata": {},
   "source": [
    "# 统计列表内有多少个元素：len(列表)"
   ]
  },
  {
   "cell_type": "code",
   "execution_count": null,
   "id": "eb14cbdd-302e-4860-9622-30daedcea303",
   "metadata": {},
   "outputs": [],
   "source": [
    "# len(列表)\n",
    "my_list = [1, 2, 3, 2, 3]\n",
    "len(my_list)"
   ]
  },
  {
   "cell_type": "markdown",
   "id": "da2da566-29eb-4a22-8cac-ef2025b18294",
   "metadata": {},
   "source": [
    "# list(列表)的循环遍历"
   ]
  },
  {
   "cell_type": "markdown",
   "id": "c41708ed-f3be-4649-90e0-2fc1022de565",
   "metadata": {},
   "source": [
    "## while 循环"
   ]
  },
  {
   "cell_type": "code",
   "execution_count": null,
   "id": "953ce17d-1d9e-4753-8cc2-6e86d11d0230",
   "metadata": {},
   "outputs": [],
   "source": [
    "index = 0\n",
    "while index < len(列表):\n",
    "    元素 = 列表[index]\n",
    "    对元素进行处理\n",
    "    index += 1"
   ]
  },
  {
   "cell_type": "code",
   "execution_count": null,
   "id": "d10d7989-2b08-4544-9d06-072ef238c7ed",
   "metadata": {},
   "outputs": [],
   "source": [
    "def list_while_func():\n",
    "    my_list = [\"A\", \"B\", \"C\"]\n",
    "\n",
    "    # 定义一个变量用来标记列表的下表\n",
    "    index = 0  # 初始值为 0\n",
    "\n",
    "    while index < len(my_list):\n",
    "        element = my_list[index]\n",
    "        \n",
    "        print(f\"列表的元素：{element}\")\n",
    "        \n",
    "        index += 1\n",
    "\n",
    "list_while_func()"
   ]
  },
  {
   "cell_type": "markdown",
   "id": "0a83e1c4-d1f5-426b-90fb-f5f93a44be33",
   "metadata": {},
   "source": [
    "## for 循环"
   ]
  },
  {
   "cell_type": "code",
   "execution_count": null,
   "id": "6e0e0640-725e-4efa-83fa-a54b9ff541b4",
   "metadata": {},
   "outputs": [],
   "source": [
    "def list_for_func():\n",
    "\n",
    "    my_list = [1, 2, 3, 4, 5]\n",
    "    for element in my_list:\n",
    "        print(f\"列表的元素：{element}\")\n",
    "\n",
    "list_for_func()"
   ]
  }
 ],
 "metadata": {
  "kernelspec": {
   "display_name": "Python 3 (ipykernel)",
   "language": "python",
   "name": "python3"
  },
  "language_info": {
   "codemirror_mode": {
    "name": "ipython",
    "version": 3
   },
   "file_extension": ".py",
   "mimetype": "text/x-python",
   "name": "python",
   "nbconvert_exporter": "python",
   "pygments_lexer": "ipython3",
   "version": "3.11.0"
  },
  "widgets": {
   "application/vnd.jupyter.widget-state+json": {
    "state": {},
    "version_major": 2,
    "version_minor": 0
   }
  }
 },
 "nbformat": 4,
 "nbformat_minor": 5
}
