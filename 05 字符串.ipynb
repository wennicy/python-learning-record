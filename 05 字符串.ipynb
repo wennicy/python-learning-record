{
 "cells": [
  {
   "cell_type": "markdown",
   "id": "036eb7f5-5e13-4734-b004-50ae5f1aa9b8",
   "metadata": {},
   "source": [
    "# 字符串--只读不改"
   ]
  },
  {
   "cell_type": "markdown",
   "id": "e55c53e3-c054-4799-9828-093cf495598c",
   "metadata": {},
   "source": [
    "# 下标索引取值"
   ]
  },
  {
   "cell_type": "code",
   "execution_count": null,
   "id": "080057bc-e163-4910-9ed7-9cd94bd8884f",
   "metadata": {},
   "outputs": [],
   "source": [
    "my_str = \"The day is Tuesday!\"\n",
    "value = my_str[2]\n",
    "print(f\"从字符串{my_str}中取下标为 2 的元素，值是{value}\")"
   ]
  },
  {
   "cell_type": "markdown",
   "id": "5fef6dc6-3b1f-40c1-ae56-bc7e71752976",
   "metadata": {},
   "source": [
    "# index 方法"
   ]
  },
  {
   "cell_type": "code",
   "execution_count": null,
   "id": "36af52d0-5a13-49e3-8355-6f1e48b9a140",
   "metadata": {},
   "outputs": [],
   "source": [
    "my_str = \"The day is Tuesday!\"\n",
    "value = my_str.index(\"ay\")\n",
    "print(f\"从字符串{my_str}中查找 ay 的元素，其起始下标是{value}\")"
   ]
  },
  {
   "cell_type": "markdown",
   "id": "650aeaff-2831-492c-b546-393814a9197b",
   "metadata": {},
   "source": [
    "# 字符串替换 replace"
   ]
  },
  {
   "cell_type": "code",
   "execution_count": null,
   "id": "83297352-39ee-4a0a-9a88-2383629a6f46",
   "metadata": {},
   "outputs": [],
   "source": [
    "# 得到新的字符串\n",
    "my_str = \"The day is Tuesday!\"\n",
    "my_str2 = my_str.replace(\"Tuesday\", \"Sunday\")\n",
    "print(f\"从字符串{my_str}中替换 Tuesday 的元素，得到的新字符串是{my_str2}\")"
   ]
  },
  {
   "cell_type": "markdown",
   "id": "447e4a12-a367-4915-b985-92265fb7e241",
   "metadata": {},
   "source": [
    "# 字符串的分割 split"
   ]
  },
  {
   "cell_type": "code",
   "execution_count": null,
   "id": "c6296fad-9628-449a-a50c-6f0daa1e1557",
   "metadata": {},
   "outputs": [],
   "source": [
    "# 按照指定的分隔字符串，将字符串划分为多个字符串，并存入列表对象中\n",
    "# 注意：字符串本身不变，而是得到了一个新的列表对象"
   ]
  },
  {
   "cell_type": "code",
   "execution_count": null,
   "id": "506d716a-b669-4924-bc0c-6763f53f90cf",
   "metadata": {},
   "outputs": [],
   "source": [
    "my_str = \"The day is Tuesday!\"\n",
    "my_str_list = my_str.split(\" \")\n",
    "print(f\"从字符串{my_str}按照 空格 进行分割，得到的是{my_str_list}，类型是{type(my_str_list)}\")"
   ]
  },
  {
   "cell_type": "markdown",
   "id": "1fd826c1-17c9-451a-9bd1-a514cab006fc",
   "metadata": {},
   "source": [
    "# 规整操作 strip"
   ]
  },
  {
   "cell_type": "code",
   "execution_count": null,
   "id": "863b09cd-2fc2-4494-a2a2-b6b9b2179baf",
   "metadata": {},
   "outputs": [],
   "source": [
    "# strip() 不传参数，默认去除头尾空格"
   ]
  },
  {
   "cell_type": "code",
   "execution_count": null,
   "id": "6c65fdee-6afb-4460-8a5e-be66d42f0e40",
   "metadata": {},
   "outputs": [],
   "source": [
    "my_str = \"  The day is Tuesday!  \"\n",
    "new_my_str = my_str.strip()\n",
    "print(f\"字符串{my_str}被strip后，结果{new_my_str}\")"
   ]
  },
  {
   "cell_type": "code",
   "execution_count": null,
   "id": "a55df0a5-10cb-4ab5-8f81-0cad42056d7d",
   "metadata": {},
   "outputs": [],
   "source": [
    "# 传入参数，去除传入的内容，'12'会将其分为'1','2'两个小字串去除，而不是说一定要是 12"
   ]
  },
  {
   "cell_type": "code",
   "execution_count": null,
   "id": "4f83960c-f66b-45a8-8a32-0eab5ae0e475",
   "metadata": {},
   "outputs": [],
   "source": [
    "my_str = \"12The day is Tuesday!21\"\n",
    "new_my_str = my_str.strip(\"12\")\n",
    "print(f\"字符串{my_str}被strip('12')后，结果{new_my_str}\")"
   ]
  },
  {
   "cell_type": "markdown",
   "id": "e230a991-024f-43b7-bcfc-52a701d55fb2",
   "metadata": {},
   "source": [
    "# 统计字符串出现的次数 count"
   ]
  },
  {
   "cell_type": "code",
   "execution_count": null,
   "id": "23862f1a-b654-4d77-9131-3f7e06ea10b2",
   "metadata": {},
   "outputs": [],
   "source": [
    "my_str = \"The day is Tuesday!\"\n",
    "count = my_str.count(\"e\")\n",
    "print(f\"字符串{my_str}中'e'出现的次数统计，结果{count}\")"
   ]
  },
  {
   "cell_type": "markdown",
   "id": "fda96aed-a6f4-4c76-b78f-c69c9d262ccf",
   "metadata": {},
   "source": [
    "# 统计字符串的长度 len"
   ]
  },
  {
   "cell_type": "code",
   "execution_count": null,
   "id": "fa51b9ce-d030-41f0-93c9-b39befcca8fd",
   "metadata": {},
   "outputs": [],
   "source": [
    "my_str = \"The day is Tuesday!\"\n",
    "count = len(my_str)\n",
    "print(f\"字符串{my_str}的长度，结果{count}\")"
   ]
  },
  {
   "cell_type": "code",
   "execution_count": null,
   "id": "d5774250-4217-4295-b5d2-b22b0315803b",
   "metadata": {},
   "outputs": [],
   "source": [
    "# 练习：分割字符串\n",
    "my_str = \"Today is Monday, tomorrow is Tuesday.\"\n",
    "my_str_count = my_str.count(\"is\")\n",
    "my_str_replace = my_str.replace(\" \",\"|\")\n",
    "my_str_split = my_str_replace.split(\"|\")\n",
    "print(f\"统计字符串{my_str}中'is'出现的次数，结果为{my_str_count}\")\n",
    "print(f\"将字符串{my_str}中空格替换为'|'，结果为{my_str_replace}\")\n",
    "print(f\"将字符串{my_str_replace}按'|'进行分割，结果为{my_str_split}\")"
   ]
  }
 ],
 "metadata": {
  "kernelspec": {
   "display_name": "Python 3 (ipykernel)",
   "language": "python",
   "name": "python3"
  },
  "language_info": {
   "codemirror_mode": {
    "name": "ipython",
    "version": 3
   },
   "file_extension": ".py",
   "mimetype": "text/x-python",
   "name": "python",
   "nbconvert_exporter": "python",
   "pygments_lexer": "ipython3",
   "version": "3.11.0"
  },
  "widgets": {
   "application/vnd.jupyter.widget-state+json": {
    "state": {},
    "version_major": 2,
    "version_minor": 0
   }
  }
 },
 "nbformat": 4,
 "nbformat_minor": 5
}
